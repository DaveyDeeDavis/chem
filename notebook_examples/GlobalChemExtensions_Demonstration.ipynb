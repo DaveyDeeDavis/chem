{
 "cells": [
  {
   "cell_type": "code",
   "execution_count": null,
   "metadata": {
    "colab": {
     "base_uri": "https://localhost:8080/"
    },
    "id": "PY-f8bB8jpqi",
    "outputId": "cd3c1144-7c29-4f4b-b9cd-d5390ffbb3e9",
    "collapsed": true
   },
   "outputs": [
    {
     "name": "stdout",
     "output_type": "stream",
     "text": [
      "Collecting global-chem-extensions\n",
      "  Downloading global_chem_extensions-0.3.4.tar.gz (15 kB)\n",
      "Requirement already satisfied: plotly in /usr/local/lib/python3.7/dist-packages (from global-chem-extensions) (5.5.0)\n",
      "Collecting global-chem\n",
      "  Downloading global_chem-1.4.5.tar.gz (81 kB)\n",
      "\u001b[K     |████████████████████████████████| 81 kB 3.5 MB/s \n",
      "\u001b[?25hCollecting kaleido\n",
      "  Downloading kaleido-0.2.1-py2.py3-none-manylinux1_x86_64.whl (79.9 MB)\n",
      "\u001b[K     |████████████████████████████████| 79.9 MB 141 kB/s \n",
      "\u001b[?25hCollecting rdkit-pypi\n",
      "  Downloading rdkit_pypi-2021.9.4-cp37-cp37m-manylinux_2_17_x86_64.manylinux2014_x86_64.whl (20.6 MB)\n",
      "\u001b[K     |████████████████████████████████| 20.6 MB 1.2 MB/s \n",
      "\u001b[?25hCollecting bokeh==1.4.0\n",
      "  Downloading bokeh-1.4.0.tar.gz (32.4 MB)\n",
      "\u001b[K     |████████████████████████████████| 32.4 MB 1.2 MB/s \n",
      "\u001b[?25hRequirement already satisfied: six>=1.5.2 in /usr/local/lib/python3.7/dist-packages (from bokeh==1.4.0->global-chem-extensions) (1.15.0)\n",
      "Requirement already satisfied: PyYAML>=3.10 in /usr/local/lib/python3.7/dist-packages (from bokeh==1.4.0->global-chem-extensions) (3.13)\n",
      "Requirement already satisfied: python-dateutil>=2.1 in /usr/local/lib/python3.7/dist-packages (from bokeh==1.4.0->global-chem-extensions) (2.8.2)\n",
      "Requirement already satisfied: Jinja2>=2.7 in /usr/local/lib/python3.7/dist-packages (from bokeh==1.4.0->global-chem-extensions) (2.11.3)\n",
      "Requirement already satisfied: numpy>=1.7.1 in /usr/local/lib/python3.7/dist-packages (from bokeh==1.4.0->global-chem-extensions) (1.21.5)\n",
      "Requirement already satisfied: pillow>=4.0 in /usr/local/lib/python3.7/dist-packages (from bokeh==1.4.0->global-chem-extensions) (7.1.2)\n",
      "Requirement already satisfied: packaging>=16.8 in /usr/local/lib/python3.7/dist-packages (from bokeh==1.4.0->global-chem-extensions) (21.3)\n",
      "Requirement already satisfied: tornado>=4.3 in /usr/local/lib/python3.7/dist-packages (from bokeh==1.4.0->global-chem-extensions) (5.1.1)\n",
      "Requirement already satisfied: MarkupSafe>=0.23 in /usr/local/lib/python3.7/dist-packages (from Jinja2>=2.7->bokeh==1.4.0->global-chem-extensions) (2.0.1)\n",
      "Requirement already satisfied: pyparsing!=3.0.5,>=2.0.2 in /usr/local/lib/python3.7/dist-packages (from packaging>=16.8->bokeh==1.4.0->global-chem-extensions) (3.0.7)\n",
      "Requirement already satisfied: tenacity>=6.2.0 in /usr/local/lib/python3.7/dist-packages (from plotly->global-chem-extensions) (8.0.1)\n",
      "Building wheels for collected packages: global-chem-extensions, bokeh, global-chem\n",
      "  Building wheel for global-chem-extensions (setup.py) ... \u001b[?25l\u001b[?25hdone\n",
      "  Created wheel for global-chem-extensions: filename=global_chem_extensions-0.3.4-py3-none-any.whl size=16335 sha256=a95804a7551802128e5ecbcbfb0c6b905d9b8aea4a606276d38737f99f65ea09\n",
      "  Stored in directory: /root/.cache/pip/wheels/07/6d/df/b531f9fb85c9af0643540c253779eab1a0b5b69d110a7729b6\n",
      "  Building wheel for bokeh (setup.py) ... \u001b[?25l\u001b[?25hdone\n",
      "  Created wheel for bokeh: filename=bokeh-1.4.0-py3-none-any.whl size=23689209 sha256=634fd1964f76b5cd8e4e83c45a19cbf720cb156221451bd6154e4542a6b0a88d\n",
      "  Stored in directory: /root/.cache/pip/wheels/49/8c/d1/6b8e1f57e542671673cb3d2faee1a9eccb36be2c08a3915498\n",
      "  Building wheel for global-chem (setup.py) ... \u001b[?25l\u001b[?25hdone\n",
      "  Created wheel for global-chem: filename=global_chem-1.4.5-py3-none-any.whl size=87559 sha256=57e3e420fa1b448f68664a062d2daef9edd0997e2794f098a918b8788fa528ad\n",
      "  Stored in directory: /root/.cache/pip/wheels/d5/ee/83/325626e4b63a0b1ef35126e0d942458f1b2bd98e3421934670\n",
      "Successfully built global-chem-extensions bokeh global-chem\n",
      "Installing collected packages: rdkit-pypi, kaleido, global-chem, bokeh, global-chem-extensions\n",
      "  Attempting uninstall: bokeh\n",
      "    Found existing installation: bokeh 2.3.3\n",
      "    Uninstalling bokeh-2.3.3:\n",
      "      Successfully uninstalled bokeh-2.3.3\n",
      "\u001b[31mERROR: pip's dependency resolver does not currently take into account all the packages that are installed. This behaviour is the source of the following dependency conflicts.\n",
      "panel 0.12.1 requires bokeh<2.4.0,>=2.3.0, but you have bokeh 1.4.0 which is incompatible.\u001b[0m\n",
      "Successfully installed bokeh-1.4.0 global-chem-1.4.5 global-chem-extensions-0.3.4 kaleido-0.2.1 rdkit-pypi-2021.9.4\n"
     ]
    }
   ],
   "source": [
    "!pip install global-chem-extensions --upgrade"
   ]
  },
  {
   "cell_type": "code",
   "execution_count": null,
   "metadata": {
    "colab": {
     "base_uri": "https://localhost:8080/",
     "height": 617.0
    },
    "id": "UqTUcQIzjx5x",
    "outputId": "b40a3549-ed65-4c81-eda3-59a5f174a180"
   },
   "outputs": [
    {
     "data": {
      "text/html": [
       "<html>\n",
       "<head><meta charset=\"utf-8\" /></head>\n",
       "<body>\n",
       "    <div>            <script src=\"https://cdnjs.cloudflare.com/ajax/libs/mathjax/2.7.5/MathJax.js?config=TeX-AMS-MML_SVG\"></script><script type=\"text/javascript\">if (window.MathJax) {MathJax.Hub.Config({SVG: {font: \"STIX-Web\"}});}</script>                <script type=\"text/javascript\">window.PlotlyConfig = {MathJaxConfig: 'local'};</script>\n",
       "        <script src=\"https://cdn.plot.ly/plotly-2.8.3.min.js\"></script>                <div id=\"0b48e018-899b-429a-bd9b-a903f62bb347\" class=\"plotly-graph-div\" style=\"height:600px; width:600px;\"></div>            <script type=\"text/javascript\">                                    window.PLOTLYENV=window.PLOTLYENV || {};                                    if (document.getElementById(\"0b48e018-899b-429a-bd9b-a903f62bb347\")) {                    Plotly.newPlot(                        \"0b48e018-899b-429a-bd9b-a903f62bb347\",                        [{\"domain\":{\"column\":0},\"insidetextorientation\":\"radial\",\"labels\":[\"Machine 1\",\"emerging_perfluoro_alkyls\",\"montmorillonite_adsorption\",\"common_monomer_repeating_units\",\"electrophilic_warheads_for_kinases\",\"common_warheads_covalent_inhibitors\",\"rings_in_drugs\",\"iupac_blue_book_rings\",\"phase2_hetereo_cyclic_rings\",\"privileged_scaffolds\",\"iupac_blue_book\",\"common_r_group_replacements\",\"braf_inhibitors\",\"privileged_kinase_inhibitors\",\"common_organic_solvents\",\"amino_acid_protecting_groups\",\"schedule_one\",\"schedule_two\",\"schedule_three\",\"schedule_four\",\"schedule_five\",\"interstellar_space\",\"vitamins\",\"open_smiles\",\"amino_acids\",\"pihkal\",\"emerging_perfluoro_alkyls - perfluorohexanoic acid\",\"common_monomer_repeating_units - propane-1,3-diyl\",\"electrophilic_warheads_for_kinases - fluoromethane\",\"electrophilic_warheads_for_kinases - aldehyde\",\"iupac_blue_book - acetyl\",\"iupac_blue_book - butoxy\",\"iupac_blue_book - butyryl\",\"iupac_blue_book - caproyl\",\"iupac_blue_book - carboxy\",\"iupac_blue_book - epoxy\",\"iupac_blue_book - ethoxy\",\"iupac_blue_book - furmaroyl\",\"iupac_blue_book - hexamethylene\",\"iupac_blue_book - isopropylidene\",\"iupac_blue_book - methoxy\",\"iupac_blue_book - oxo\",\"iupac_blue_book - propionyl\",\"iupac_blue_book - propoxy\",\"iupac_blue_book - tetramethylene\",\"iupac_blue_book - trimethylene\",\"iupac_blue_book - valeryl\",\"common_r_group_replacements - water\",\"common_r_group_replacements - methanol\",\"common_r_group_replacements - hydrogen fluoride\",\"common_r_group_replacements - ethane\",\"common_r_group_replacements - formic acid\",\"common_r_group_replacements - fluroform\",\"common_r_group_replacements - propane\",\"common_r_group_replacements - ethanol\",\"common_r_group_replacements - acetic acid\",\"common_r_group_replacements - butane\",\"common_r_group_replacements - acetaldehyde\",\"common_r_group_replacements - propionic acid\",\"common_r_group_replacements - pentane\",\"common_r_group_replacements - formaldehyde\",\"common_r_group_replacements - butan-1-ol\",\"common_r_group_replacements - propan-1-ol\",\"common_r_group_replacements - hexane\",\"common_r_group_replacements - butyric acid\",\"common_r_group_replacements - propionaldehyde\",\"common_r_group_replacements - fluoromethane\",\"common_r_group_replacements - 2-fluoroethan-1-ol\",\"common_r_group_replacements - difluoromethane\",\"common_r_group_replacements - 1,1,1-trifluoroethane\",\"common_organic_solvents - acetic acid\",\"common_organic_solvents - ethanol\",\"common_organic_solvents - n-hexane\",\"common_organic_solvents - methanol\",\"common_organic_solvents - n-pentane\",\"amino_acid_protecting_groups - methyl\",\"amino_acid_protecting_groups - ethyl\",\"amino_acid_protecting_groups - me\",\"amino_acid_protecting_groups - et\",\"amino_acid_protecting_groups - 3-pentyl\",\"amino_acid_protecting_groups - pen\",\"amino_acid_protecting_groups - formyl\",\"amino_acid_protecting_groups - for\",\"interstellar_space - formaldehyde\",\"interstellar_space - formic acid\",\"interstellar_space - methane\",\"interstellar_space - methanol\",\"interstellar_space - acetaldehyde\",\"interstellar_space - acetic acid\",\"interstellar_space - ethane\",\"interstellar_space - water\",\"open_smiles - alkane\",\"open_smiles - carbonyl group\",\"open_smiles - carbonyl with carbon\",\"open_smiles - carbonyl with oxygen\",\"open_smiles - carboxylic acid\",\"open_smiles - fluorine\",\"open_smiles - hydroxyl\",\"open_smiles - hydroxyl in alcohol\",\"open_smiles - hydroxyl in carboxylic acid\",\"open_smiles - ketone\",\"open_smiles - primary alcohol\",\"amino_acids - alanine\",\"amino_acids - aspartic acid\",\"amino_acids - glutamic acid\",\"amino_acids - serine\",\"amino_acids - valine\",\"emerging_perfluoro_alkyls - perfluoroheptanoic acid\",\"iupac_blue_book - enanthoyl\",\"common_r_group_replacements - heptane\",\"emerging_perfluoro_alkyls - perfluorononanoic acid\",\"iupac_blue_book - capryl\",\"iupac_blue_book - capryloyl\",\"iupac_blue_book - nonanoyl\",\"common_r_group_replacements - octane\",\"emerging_perfluoro_alkyls - perfluorodecanoic acid\",\"iupac_blue_book - decanoyl\",\"emerging_perfluoro_alkyls - perfluorobutanesulfonic acid\",\"electrophilic_warheads_for_kinases - methylsulfane\",\"common_warheads_covalent_inhibitors - sulfone\",\"iupac_blue_book - ethylthio\",\"iupac_blue_book - methylthio\",\"iupac_blue_book - sulfeno\",\"iupac_blue_book - sulfinyl\",\"iupac_blue_book - sulfo\",\"iupac_blue_book - sulfonyl\",\"iupac_blue_book - thionyl\",\"common_r_group_replacements - hydrosulfonylmethane\",\"common_r_group_replacements - thiol\",\"common_r_group_replacements - hydrogen sulfide\",\"common_r_group_replacements - hydrosulfonylethane\",\"common_r_group_replacements - ethanethiol\",\"braf_inhibitors - sulfonylpropane\",\"interstellar_space - methanethiol\",\"interstellar_space - hydrogen sulfide\",\"interstellar_space - sulfur monoxide\",\"interstellar_space - sulfur dioxide\",\"open_smiles - sulfonic acid\",\"amino_acids - cysteine\",\"emerging_perfluoro_alkyls - perfluorohexanesulfonic acid\",\"emerging_perfluoro_alkyls - perfluoroundecanoic acid\",\"emerging_perfluoro_alkyls - 2-(N-ethyl-perfluorooctane sulfanamido) acetic acid\",\"emerging_perfluoro_alkyls - 2-(N-Methyl-perfluorooctane sulfanamido) acetic acid\",\"common_warheads_covalent_inhibitors - sulfonamide\",\"iupac_blue_book - amino\",\"iupac_blue_book - ethyl\",\"iupac_blue_book - glycyl\",\"iupac_blue_book - methyl\",\"iupac_blue_book - methylene\",\"iupac_blue_book - sulfamoyl\",\"common_r_group_replacements - ammonia\",\"common_r_group_replacements - dimethylamine\",\"common_r_group_replacements - methanamine\",\"common_r_group_replacements - sulfonic amide\",\"common_r_group_replacements - ethanamine\",\"common_r_group_replacements - methanesulfonamide\",\"common_r_group_replacements - diethylamine\",\"common_r_group_replacements - 2-aminoethan-1-ol\",\"common_r_group_replacements - N-methylethanamine\",\"common_r_group_replacements - N,N-dimethylsulfonic amide\",\"common_r_group_replacements - 2-(methylamino)ethan-1-ol\",\"braf_inhibitors - methanesulfonamide\",\"braf_inhibitors - N-ethyl-N-methylsulfonic amide\",\"braf_inhibitors - propanesulfonamide\",\"interstellar_space - hydrogen cyanide\",\"interstellar_space - methylene\",\"interstellar_space - methyl\",\"interstellar_space - methylamine\",\"interstellar_space - ammonia\",\"open_smiles - sulfonamide\",\"emerging_perfluoro_alkyls - hexafluoropropylene Oxide Dimer Acid\",\"electrophilic_warheads_for_kinases - 2-methyloxirane\",\"common_warheads_covalent_inhibitors - epoxide\",\"rings_in_drugs - epoxide\",\"iupac_blue_book - isopropoxy\",\"common_r_group_replacements - propan-2-ol\",\"common_r_group_replacements - methoxymethane\",\"common_r_group_replacements - methoxyethane\",\"common_r_group_replacements - difluoromethanol\",\"common_r_group_replacements - 2,2,2-trifluoroethan-1-ol\",\"common_organic_solvents - 2-propanol\",\"interstellar_space - ethylene oxide\",\"interstellar_space - dimethyl ether\",\"open_smiles - ether\",\"emerging_perfluoro_alkyls - perfluorotetradecanoic acid\",\"iupac_blue_book - lauroyl\",\"iupac_blue_book - myristoyl\",\"emerging_perfluoro_alkyls - perfluorotridecanoic acid\",\"emerging_perfluoro_alkyls - 4,8-dioxa-3H-perfluorononanoic\",\"common_monomer_repeating_units - methylmethylene\",\"iupac_blue_book - ethylidene\",\"iupac_blue_book - propylidene\",\"common_r_group_replacements - trifluoromethanol\",\"common_organic_solvents - diethyl ether\",\"interstellar_space - methylidyne\",\"amino_acids - threonine\",\"emerging_perfluoro_alkyls - 6:2 chlorinated polyfluorinated ether sulfonic acid\",\"common_r_group_replacements - hydrogen chloride\",\"common_r_group_replacements - chloromethane\",\"open_smiles - chlorine\",\"open_smiles - sulfonate\",\"emerging_perfluoro_alkyls - perfluorobutanoic acid\",\"emerging_perfluoro_alkyls - perfluoro-n-pentanoic acid\",\"emerging_perfluoro_alkyls - nafion byproduct 2\",\"common_r_group_replacements - 2-methoxyethan-1-ol\",\"common_r_group_replacements - ethylene glycol\",\"common_organic_solvents - 1,2-dimethoxyethane\",\"common_organic_solvents - ethylene glycol\",\"interstellar_space - ethylene glycol\",\"emerging_perfluoro_alkyls - perfluoro-3,5,7,9-tetraoxadecanoic acid\",\"iupac_blue_book - glycoloyl\",\"common_r_group_replacements - 2-hydroxyacetic acid\",\"interstellar_space - glycolaldehyde\",\"emerging_perfluoro_alkyls - perfluoro-3,5,7,9,11-pentaoxadodecanoic acid\",\"emerging_perfluoro_alkyls - 2,2,3,3-tetrafluoro-3-((1,1,1,2,3,3-hexafluoro-3-(1,2,2,2-tetrafluoroethoxy)propan-2-yl)oxy)propanoic acid\",\"iupac_blue_book - lactoyl\",\"common_organic_solvents - grease\",\"emerging_perfluoro_alkyls - h,1h,2h,2h-perfluorooctanesulfonic acid\",\"emerging_perfluoro_alkyls - 2-(perfluorooctyl)ethane-1-sulfonic acid\",\"iupac_blue_book - amyl\",\"iupac_blue_book - butyl\",\"iupac_blue_book - lauryl\",\"iupac_blue_book - pentyl\",\"iupac_blue_book - propyl\",\"emerging_perfluoro_alkyls - perfluoropentanesulfonic acid\",\"emerging_perfluoro_alkyls - perfluoroheptanesulfonic acid\",\"emerging_perfluoro_alkyls - perfluorononanesulfonic acid\",\"emerging_perfluoro_alkyls - perfluorodecanesulfonic acid\",\"emerging_perfluoro_alkyls - hexafluoropropylene oxide trimer acid\",\"open_smiles - acyl fluoride\"],\"opacity\":0.9,\"parents\":[\"\",\"Machine 1\",\"Machine 1\",\"Machine 1\",\"Machine 1\",\"Machine 1\",\"Machine 1\",\"Machine 1\",\"Machine 1\",\"Machine 1\",\"Machine 1\",\"Machine 1\",\"Machine 1\",\"Machine 1\",\"Machine 1\",\"Machine 1\",\"Machine 1\",\"Machine 1\",\"Machine 1\",\"Machine 1\",\"Machine 1\",\"Machine 1\",\"Machine 1\",\"Machine 1\",\"Machine 1\",\"Machine 1\",\"emerging_perfluoro_alkyls\",\"common_monomer_repeating_units\",\"electrophilic_warheads_for_kinases\",\"electrophilic_warheads_for_kinases\",\"iupac_blue_book\",\"iupac_blue_book\",\"iupac_blue_book\",\"iupac_blue_book\",\"iupac_blue_book\",\"iupac_blue_book\",\"iupac_blue_book\",\"iupac_blue_book\",\"iupac_blue_book\",\"iupac_blue_book\",\"iupac_blue_book\",\"iupac_blue_book\",\"iupac_blue_book\",\"iupac_blue_book\",\"iupac_blue_book\",\"iupac_blue_book\",\"iupac_blue_book\",\"common_r_group_replacements\",\"common_r_group_replacements\",\"common_r_group_replacements\",\"common_r_group_replacements\",\"common_r_group_replacements\",\"common_r_group_replacements\",\"common_r_group_replacements\",\"common_r_group_replacements\",\"common_r_group_replacements\",\"common_r_group_replacements\",\"common_r_group_replacements\",\"common_r_group_replacements\",\"common_r_group_replacements\",\"common_r_group_replacements\",\"common_r_group_replacements\",\"common_r_group_replacements\",\"common_r_group_replacements\",\"common_r_group_replacements\",\"common_r_group_replacements\",\"common_r_group_replacements\",\"common_r_group_replacements\",\"common_r_group_replacements\",\"common_r_group_replacements\",\"common_organic_solvents\",\"common_organic_solvents\",\"common_organic_solvents\",\"common_organic_solvents\",\"common_organic_solvents\",\"amino_acid_protecting_groups\",\"amino_acid_protecting_groups\",\"amino_acid_protecting_groups\",\"amino_acid_protecting_groups\",\"amino_acid_protecting_groups\",\"amino_acid_protecting_groups\",\"amino_acid_protecting_groups\",\"amino_acid_protecting_groups\",\"interstellar_space\",\"interstellar_space\",\"interstellar_space\",\"interstellar_space\",\"interstellar_space\",\"interstellar_space\",\"interstellar_space\",\"interstellar_space\",\"open_smiles\",\"open_smiles\",\"open_smiles\",\"open_smiles\",\"open_smiles\",\"open_smiles\",\"open_smiles\",\"open_smiles\",\"open_smiles\",\"open_smiles\",\"open_smiles\",\"amino_acids\",\"amino_acids\",\"amino_acids\",\"amino_acids\",\"amino_acids\",\"emerging_perfluoro_alkyls\",\"iupac_blue_book\",\"common_r_group_replacements\",\"emerging_perfluoro_alkyls\",\"iupac_blue_book\",\"iupac_blue_book\",\"iupac_blue_book\",\"common_r_group_replacements\",\"emerging_perfluoro_alkyls\",\"iupac_blue_book\",\"emerging_perfluoro_alkyls\",\"electrophilic_warheads_for_kinases\",\"common_warheads_covalent_inhibitors\",\"iupac_blue_book\",\"iupac_blue_book\",\"iupac_blue_book\",\"iupac_blue_book\",\"iupac_blue_book\",\"iupac_blue_book\",\"iupac_blue_book\",\"common_r_group_replacements\",\"common_r_group_replacements\",\"common_r_group_replacements\",\"common_r_group_replacements\",\"common_r_group_replacements\",\"braf_inhibitors\",\"interstellar_space\",\"interstellar_space\",\"interstellar_space\",\"interstellar_space\",\"open_smiles\",\"amino_acids\",\"emerging_perfluoro_alkyls\",\"emerging_perfluoro_alkyls\",\"emerging_perfluoro_alkyls\",\"emerging_perfluoro_alkyls\",\"common_warheads_covalent_inhibitors\",\"iupac_blue_book\",\"iupac_blue_book\",\"iupac_blue_book\",\"iupac_blue_book\",\"iupac_blue_book\",\"iupac_blue_book\",\"common_r_group_replacements\",\"common_r_group_replacements\",\"common_r_group_replacements\",\"common_r_group_replacements\",\"common_r_group_replacements\",\"common_r_group_replacements\",\"common_r_group_replacements\",\"common_r_group_replacements\",\"common_r_group_replacements\",\"common_r_group_replacements\",\"common_r_group_replacements\",\"braf_inhibitors\",\"braf_inhibitors\",\"braf_inhibitors\",\"interstellar_space\",\"interstellar_space\",\"interstellar_space\",\"interstellar_space\",\"interstellar_space\",\"open_smiles\",\"emerging_perfluoro_alkyls\",\"electrophilic_warheads_for_kinases\",\"common_warheads_covalent_inhibitors\",\"rings_in_drugs\",\"iupac_blue_book\",\"common_r_group_replacements\",\"common_r_group_replacements\",\"common_r_group_replacements\",\"common_r_group_replacements\",\"common_r_group_replacements\",\"common_organic_solvents\",\"interstellar_space\",\"interstellar_space\",\"open_smiles\",\"emerging_perfluoro_alkyls\",\"iupac_blue_book\",\"iupac_blue_book\",\"emerging_perfluoro_alkyls\",\"emerging_perfluoro_alkyls\",\"common_monomer_repeating_units\",\"iupac_blue_book\",\"iupac_blue_book\",\"common_r_group_replacements\",\"common_organic_solvents\",\"interstellar_space\",\"amino_acids\",\"emerging_perfluoro_alkyls\",\"common_r_group_replacements\",\"common_r_group_replacements\",\"open_smiles\",\"open_smiles\",\"emerging_perfluoro_alkyls\",\"emerging_perfluoro_alkyls\",\"emerging_perfluoro_alkyls\",\"common_r_group_replacements\",\"common_r_group_replacements\",\"common_organic_solvents\",\"common_organic_solvents\",\"interstellar_space\",\"emerging_perfluoro_alkyls\",\"iupac_blue_book\",\"common_r_group_replacements\",\"interstellar_space\",\"emerging_perfluoro_alkyls\",\"emerging_perfluoro_alkyls\",\"iupac_blue_book\",\"common_organic_solvents\",\"emerging_perfluoro_alkyls\",\"emerging_perfluoro_alkyls\",\"iupac_blue_book\",\"iupac_blue_book\",\"iupac_blue_book\",\"iupac_blue_book\",\"iupac_blue_book\",\"emerging_perfluoro_alkyls\",\"emerging_perfluoro_alkyls\",\"emerging_perfluoro_alkyls\",\"emerging_perfluoro_alkyls\",\"emerging_perfluoro_alkyls\",\"open_smiles\"],\"values\":[1606,1,1,26,368,513,80,142,204,189,78,1,3,0,0,24,26,15,15,9,8,6,14,26,18,14,14,24,18,26,11,14,19,24,7,26,18,26,26,14,25,24,18,14,19,15,10,17,15,9,14,14,8,11,26,16,26,22,14,18,14,18,17,26,26,26,26,17,17,15,15,15,14,26,18,15,14,26,26,26,15,15,14,14,26,23,14,14,15,23,26,14,10,18,24,0,5,12,0,10,4,4,10,0,3,0,11,11,11,11,9,11,9,11,11,11,11,11,11,11,9,11,11,11,11,8,11,0,0,0,1,1,1,2,1,1,2,1,1,1,1,1,1,1,0,1,1,1,1,1,1,1,1,2,1,1,1,1,0,0,0,0,3,3,7,7,7,3,3,0,7,7,0,1,0,0,0,1,1,0,2,4,1,1,0,0,0,0,0,0,0,0,4,4,2,4,4,0,3,2,3,0,0,1,0,0,0,0,0,0,0,0,0,0,0,0,0,0],\"type\":\"sunburst\"}],                        {\"template\":{\"data\":{\"bar\":[{\"error_x\":{\"color\":\"#2a3f5f\"},\"error_y\":{\"color\":\"#2a3f5f\"},\"marker\":{\"line\":{\"color\":\"#E5ECF6\",\"width\":0.5},\"pattern\":{\"fillmode\":\"overlay\",\"size\":10,\"solidity\":0.2}},\"type\":\"bar\"}],\"barpolar\":[{\"marker\":{\"line\":{\"color\":\"#E5ECF6\",\"width\":0.5},\"pattern\":{\"fillmode\":\"overlay\",\"size\":10,\"solidity\":0.2}},\"type\":\"barpolar\"}],\"carpet\":[{\"aaxis\":{\"endlinecolor\":\"#2a3f5f\",\"gridcolor\":\"white\",\"linecolor\":\"white\",\"minorgridcolor\":\"white\",\"startlinecolor\":\"#2a3f5f\"},\"baxis\":{\"endlinecolor\":\"#2a3f5f\",\"gridcolor\":\"white\",\"linecolor\":\"white\",\"minorgridcolor\":\"white\",\"startlinecolor\":\"#2a3f5f\"},\"type\":\"carpet\"}],\"choropleth\":[{\"colorbar\":{\"outlinewidth\":0,\"ticks\":\"\"},\"type\":\"choropleth\"}],\"contour\":[{\"colorbar\":{\"outlinewidth\":0,\"ticks\":\"\"},\"colorscale\":[[0.0,\"#0d0887\"],[0.1111111111111111,\"#46039f\"],[0.2222222222222222,\"#7201a8\"],[0.3333333333333333,\"#9c179e\"],[0.4444444444444444,\"#bd3786\"],[0.5555555555555556,\"#d8576b\"],[0.6666666666666666,\"#ed7953\"],[0.7777777777777778,\"#fb9f3a\"],[0.8888888888888888,\"#fdca26\"],[1.0,\"#f0f921\"]],\"type\":\"contour\"}],\"contourcarpet\":[{\"colorbar\":{\"outlinewidth\":0,\"ticks\":\"\"},\"type\":\"contourcarpet\"}],\"heatmap\":[{\"colorbar\":{\"outlinewidth\":0,\"ticks\":\"\"},\"colorscale\":[[0.0,\"#0d0887\"],[0.1111111111111111,\"#46039f\"],[0.2222222222222222,\"#7201a8\"],[0.3333333333333333,\"#9c179e\"],[0.4444444444444444,\"#bd3786\"],[0.5555555555555556,\"#d8576b\"],[0.6666666666666666,\"#ed7953\"],[0.7777777777777778,\"#fb9f3a\"],[0.8888888888888888,\"#fdca26\"],[1.0,\"#f0f921\"]],\"type\":\"heatmap\"}],\"heatmapgl\":[{\"colorbar\":{\"outlinewidth\":0,\"ticks\":\"\"},\"colorscale\":[[0.0,\"#0d0887\"],[0.1111111111111111,\"#46039f\"],[0.2222222222222222,\"#7201a8\"],[0.3333333333333333,\"#9c179e\"],[0.4444444444444444,\"#bd3786\"],[0.5555555555555556,\"#d8576b\"],[0.6666666666666666,\"#ed7953\"],[0.7777777777777778,\"#fb9f3a\"],[0.8888888888888888,\"#fdca26\"],[1.0,\"#f0f921\"]],\"type\":\"heatmapgl\"}],\"histogram\":[{\"marker\":{\"pattern\":{\"fillmode\":\"overlay\",\"size\":10,\"solidity\":0.2}},\"type\":\"histogram\"}],\"histogram2d\":[{\"colorbar\":{\"outlinewidth\":0,\"ticks\":\"\"},\"colorscale\":[[0.0,\"#0d0887\"],[0.1111111111111111,\"#46039f\"],[0.2222222222222222,\"#7201a8\"],[0.3333333333333333,\"#9c179e\"],[0.4444444444444444,\"#bd3786\"],[0.5555555555555556,\"#d8576b\"],[0.6666666666666666,\"#ed7953\"],[0.7777777777777778,\"#fb9f3a\"],[0.8888888888888888,\"#fdca26\"],[1.0,\"#f0f921\"]],\"type\":\"histogram2d\"}],\"histogram2dcontour\":[{\"colorbar\":{\"outlinewidth\":0,\"ticks\":\"\"},\"colorscale\":[[0.0,\"#0d0887\"],[0.1111111111111111,\"#46039f\"],[0.2222222222222222,\"#7201a8\"],[0.3333333333333333,\"#9c179e\"],[0.4444444444444444,\"#bd3786\"],[0.5555555555555556,\"#d8576b\"],[0.6666666666666666,\"#ed7953\"],[0.7777777777777778,\"#fb9f3a\"],[0.8888888888888888,\"#fdca26\"],[1.0,\"#f0f921\"]],\"type\":\"histogram2dcontour\"}],\"mesh3d\":[{\"colorbar\":{\"outlinewidth\":0,\"ticks\":\"\"},\"type\":\"mesh3d\"}],\"parcoords\":[{\"line\":{\"colorbar\":{\"outlinewidth\":0,\"ticks\":\"\"}},\"type\":\"parcoords\"}],\"pie\":[{\"automargin\":true,\"type\":\"pie\"}],\"scatter\":[{\"marker\":{\"colorbar\":{\"outlinewidth\":0,\"ticks\":\"\"}},\"type\":\"scatter\"}],\"scatter3d\":[{\"line\":{\"colorbar\":{\"outlinewidth\":0,\"ticks\":\"\"}},\"marker\":{\"colorbar\":{\"outlinewidth\":0,\"ticks\":\"\"}},\"type\":\"scatter3d\"}],\"scattercarpet\":[{\"marker\":{\"colorbar\":{\"outlinewidth\":0,\"ticks\":\"\"}},\"type\":\"scattercarpet\"}],\"scattergeo\":[{\"marker\":{\"colorbar\":{\"outlinewidth\":0,\"ticks\":\"\"}},\"type\":\"scattergeo\"}],\"scattergl\":[{\"marker\":{\"colorbar\":{\"outlinewidth\":0,\"ticks\":\"\"}},\"type\":\"scattergl\"}],\"scattermapbox\":[{\"marker\":{\"colorbar\":{\"outlinewidth\":0,\"ticks\":\"\"}},\"type\":\"scattermapbox\"}],\"scatterpolar\":[{\"marker\":{\"colorbar\":{\"outlinewidth\":0,\"ticks\":\"\"}},\"type\":\"scatterpolar\"}],\"scatterpolargl\":[{\"marker\":{\"colorbar\":{\"outlinewidth\":0,\"ticks\":\"\"}},\"type\":\"scatterpolargl\"}],\"scatterternary\":[{\"marker\":{\"colorbar\":{\"outlinewidth\":0,\"ticks\":\"\"}},\"type\":\"scatterternary\"}],\"surface\":[{\"colorbar\":{\"outlinewidth\":0,\"ticks\":\"\"},\"colorscale\":[[0.0,\"#0d0887\"],[0.1111111111111111,\"#46039f\"],[0.2222222222222222,\"#7201a8\"],[0.3333333333333333,\"#9c179e\"],[0.4444444444444444,\"#bd3786\"],[0.5555555555555556,\"#d8576b\"],[0.6666666666666666,\"#ed7953\"],[0.7777777777777778,\"#fb9f3a\"],[0.8888888888888888,\"#fdca26\"],[1.0,\"#f0f921\"]],\"type\":\"surface\"}],\"table\":[{\"cells\":{\"fill\":{\"color\":\"#EBF0F8\"},\"line\":{\"color\":\"white\"}},\"header\":{\"fill\":{\"color\":\"#C8D4E3\"},\"line\":{\"color\":\"white\"}},\"type\":\"table\"}]},\"layout\":{\"annotationdefaults\":{\"arrowcolor\":\"#2a3f5f\",\"arrowhead\":0,\"arrowwidth\":1},\"autotypenumbers\":\"strict\",\"coloraxis\":{\"colorbar\":{\"outlinewidth\":0,\"ticks\":\"\"}},\"colorscale\":{\"diverging\":[[0,\"#8e0152\"],[0.1,\"#c51b7d\"],[0.2,\"#de77ae\"],[0.3,\"#f1b6da\"],[0.4,\"#fde0ef\"],[0.5,\"#f7f7f7\"],[0.6,\"#e6f5d0\"],[0.7,\"#b8e186\"],[0.8,\"#7fbc41\"],[0.9,\"#4d9221\"],[1,\"#276419\"]],\"sequential\":[[0.0,\"#0d0887\"],[0.1111111111111111,\"#46039f\"],[0.2222222222222222,\"#7201a8\"],[0.3333333333333333,\"#9c179e\"],[0.4444444444444444,\"#bd3786\"],[0.5555555555555556,\"#d8576b\"],[0.6666666666666666,\"#ed7953\"],[0.7777777777777778,\"#fb9f3a\"],[0.8888888888888888,\"#fdca26\"],[1.0,\"#f0f921\"]],\"sequentialminus\":[[0.0,\"#0d0887\"],[0.1111111111111111,\"#46039f\"],[0.2222222222222222,\"#7201a8\"],[0.3333333333333333,\"#9c179e\"],[0.4444444444444444,\"#bd3786\"],[0.5555555555555556,\"#d8576b\"],[0.6666666666666666,\"#ed7953\"],[0.7777777777777778,\"#fb9f3a\"],[0.8888888888888888,\"#fdca26\"],[1.0,\"#f0f921\"]]},\"colorway\":[\"#636efa\",\"#EF553B\",\"#00cc96\",\"#ab63fa\",\"#FFA15A\",\"#19d3f3\",\"#FF6692\",\"#B6E880\",\"#FF97FF\",\"#FECB52\"],\"font\":{\"color\":\"#2a3f5f\"},\"geo\":{\"bgcolor\":\"white\",\"lakecolor\":\"white\",\"landcolor\":\"#E5ECF6\",\"showlakes\":true,\"showland\":true,\"subunitcolor\":\"white\"},\"hoverlabel\":{\"align\":\"left\"},\"hovermode\":\"closest\",\"mapbox\":{\"style\":\"light\"},\"paper_bgcolor\":\"white\",\"plot_bgcolor\":\"#E5ECF6\",\"polar\":{\"angularaxis\":{\"gridcolor\":\"white\",\"linecolor\":\"white\",\"ticks\":\"\"},\"bgcolor\":\"#E5ECF6\",\"radialaxis\":{\"gridcolor\":\"white\",\"linecolor\":\"white\",\"ticks\":\"\"}},\"scene\":{\"xaxis\":{\"backgroundcolor\":\"#E5ECF6\",\"gridcolor\":\"white\",\"gridwidth\":2,\"linecolor\":\"white\",\"showbackground\":true,\"ticks\":\"\",\"zerolinecolor\":\"white\"},\"yaxis\":{\"backgroundcolor\":\"#E5ECF6\",\"gridcolor\":\"white\",\"gridwidth\":2,\"linecolor\":\"white\",\"showbackground\":true,\"ticks\":\"\",\"zerolinecolor\":\"white\"},\"zaxis\":{\"backgroundcolor\":\"#E5ECF6\",\"gridcolor\":\"white\",\"gridwidth\":2,\"linecolor\":\"white\",\"showbackground\":true,\"ticks\":\"\",\"zerolinecolor\":\"white\"}},\"shapedefaults\":{\"line\":{\"color\":\"#2a3f5f\"}},\"ternary\":{\"aaxis\":{\"gridcolor\":\"white\",\"linecolor\":\"white\",\"ticks\":\"\"},\"baxis\":{\"gridcolor\":\"white\",\"linecolor\":\"white\",\"ticks\":\"\"},\"bgcolor\":\"#E5ECF6\",\"caxis\":{\"gridcolor\":\"white\",\"linecolor\":\"white\",\"ticks\":\"\"}},\"title\":{\"x\":0.05},\"xaxis\":{\"automargin\":true,\"gridcolor\":\"white\",\"linecolor\":\"white\",\"ticks\":\"\",\"title\":{\"standoff\":15},\"zerolinecolor\":\"white\",\"zerolinewidth\":2},\"yaxis\":{\"automargin\":true,\"gridcolor\":\"white\",\"linecolor\":\"white\",\"ticks\":\"\",\"title\":{\"standoff\":15},\"zerolinecolor\":\"white\",\"zerolinewidth\":2}}},\"margin\":{\"t\":5,\"l\":5,\"r\":5,\"b\":5},\"grid\":{\"columns\":1,\"rows\":1},\"height\":600,\"width\":600},                        {\"responsive\": true}                    ).then(function(){\n",
       "                            \n",
       "var gd = document.getElementById('0b48e018-899b-429a-bd9b-a903f62bb347');\n",
       "var x = new MutationObserver(function (mutations, observer) {{\n",
       "        var display = window.getComputedStyle(gd).display;\n",
       "        if (!display || display === 'none') {{\n",
       "            console.log([gd, 'removed!']);\n",
       "            Plotly.purge(gd);\n",
       "            observer.disconnect();\n",
       "        }}\n",
       "}});\n",
       "\n",
       "// Listen for the removal of the full notebook cells\n",
       "var notebookContainer = gd.closest('#notebook-container');\n",
       "if (notebookContainer) {{\n",
       "    x.observe(notebookContainer, {childList: true});\n",
       "}}\n",
       "\n",
       "// Listen for the clearing of the current output cell\n",
       "var outputEl = gd.closest('.output');\n",
       "if (outputEl) {{\n",
       "    x.observe(outputEl, {childList: true});\n",
       "}}\n",
       "\n",
       "                        })                };                            </script>        </div>\n",
       "</body>\n",
       "</html>"
      ]
     },
     "metadata": {},
     "output_type": "execute_result"
    }
   ],
   "source": [
    "from global_chem_extensions.global_chem_extensions import GlobalChemExtensions\n",
    "gc = GlobalChem()\n",
    "gc.build_global_chem_network(print_output=False, debugger=False)\n",
    "smiles_list = list(gc.get_node_smiles('emerging_perfluoroalkyls').values())\n",
    "GlobalChemExtensions().sunburst_chemical_list(smiles_list, save_file=False)\n"
   ]
  },
  {
   "cell_type": "code",
   "execution_count": null,
   "metadata": {
    "id": "jSEjREZPycAE",
    "colab": {
     "base_uri": "https://localhost:8080/",
     "height": 1000.0
    },
    "outputId": "7138e72a-6a9f-4eb9-80da-437c54010ebe"
   },
   "outputs": [
    {
     "name": "stdout",
     "output_type": "stream",
     "text": [
      "['C(=O)(C(C(C(C(C(F)(F)F)(F)F)(F)F)(F)F)(F)F)O', 'C(=O)(C(C(C(C(C(C(F)(F)F)(F)F)(F)F)(F)F)(F)F)(F)F)O', 'C(=O)(C(C(C(C(C(C(C(C(F)(F)F)(F)F)(F)F)(F)F)(F)F)(F)F)(F)F)(F)F)O', 'C(=O)(C(C(C(C(C(C(C(C(C(F)(F)F)(F)F)(F)F)(F)F)(F)F)(F)F)(F)F)(F)F)(F)F)O', 'C(C(C(F)(F)S(=O)(=O)O)(F)F)(C(F)(F)F)(F)F', 'C(C(C(C(F)(F)S(=O)(=O)O)(F)F)(F)F)(C(C(F)(F)F)(F)F)(F)F', 'C(=O)(C(C(C(C(C(C(C(C(C(C(F)(F)F)(F)F)(F)F)(F)F)(F)F)(F)F)(F)F)(F)F)(F)F)(F)F)O', 'CCN(CC(=O)O)S(=O)(=O)C(C(C(C(C(C(C(C(F)(F)F)(F)F)(F)F)(F)F)(F)F)(F)F)(F)F)(F)F', 'CN(CC(=O)O)S(=O)(=O)C(C(C(C(C(C(C(C(F)(F)F)(F)F)(F)F)(F)F)(F)F)(F)F)(F)F)(F)F', 'C1(C(O1)(F)F)(C(F)(F)F)F', 'C(=O)(C(C(C(C(C(C(C(C(C(C(C(C(C(F)(F)F)(F)F)(F)F)(F)F)(F)F)(F)F)(F)F)(F)F)(F)F)(F)F)(F)F)(F)F)(F)F)O', 'C(=O)(C(C(C(C(C(C(C(C(C(C(C(C(F)(F)F)(F)F)(F)F)(F)F)(F)F)(F)F)(F)F)(F)F)(F)F)(F)F)(F)F)(F)F)O', 'C(C(C(=O)O)(F)F)(OC(C(C(OC(F)(F)F)(F)F)(F)F)(F)F)F', 'FC(Cl)(C(F)(C(F)(F)C(F)(F)C(F)(F)OC(F)(F)C(F)(S(=O)(O[K])=O)F)F)F', 'FC(F)(C(F)(C(O)=O)F)C(F)(F)F', 'C(=O)(C(C(C(C(F)(F)F)(F)F)(F)F)(F)F)O', 'C(C(F)(F)F)(OC(C(C(F)(F)F)(OC(C(F)(F)S(=O)(=O)O)(F)F)F)(F)F)F', 'C(=O)(C(OC(OC(OC(OC(F)(F)F)(F)F)(F)F)(F)F)(F)F)O', 'C(=O)(C(OC(OC(OC(OC(OC(F)(F)F)(F)F)(F)F)(F)F)(F)F)(F)F)O', 'C(=O)(C(C(F)(F)F)(OC(C(OC(C(C(F)(F)F)(F)F)(F)F)(F)F)(C(F)(F)F)F)F)O', 'C(C(C(C(C(F)(F)S(=O)(=O)O)(F)F)(F)F)(F)F)(C(C(C(F)(F)F)(F)F)(F)F)(F)F', 'C(CS(=O)(=O)O)C(C(C(C(C(C(C(C(C(C(F)(F)F)(F)F)(F)F)(F)F)(F)F)(F)F)(F)F)(F)F)(F)F)(F)F', 'C(C(C(F)(F)F)(F)F)(C(C(F)(F)S(=O)(=O)O)(F)F)(F)F', 'C(C(C(C(F)(F)F)(F)F)(F)F)(C(C(C(F)(F)S(=O)(=O)O)(F)F)(F)F)(F)F', 'C(C(C(C(C(F)(F)F)(F)F)(F)F)(F)F)(C(C(C(C(F)(F)S(=O)(=O)O)(F)F)(F)F)(F)F)(F)F', 'C(C(C(C(C(C(F)(F)S(=O)(=O)O)(F)F)(F)F)(F)F)(F)F)(C(C(C(C(F)(F)F)(F)F)(F)F)(F)F)(F)F', 'C(=O)(C(C(F)(F)F)(OC(C(C(F)(F)F)(OC(C(C(F)(F)F)(F)F)(F)F)F)(F)F)F)F']\n"
     ]
    },
    {
     "data": {},
     "metadata": {},
     "output_type": "display_data"
    },
    {
     "data": {
      "text/html": [
       "\n",
       "\n",
       "\n",
       "\n",
       "\n",
       "\n",
       "  <div class=\"bk-root\" id=\"45a374f2-5f63-47ce-93e0-ed21bf78800f\" data-root-id=\"1055\"></div>\n"
      ]
     },
     "metadata": {},
     "output_type": "execute_result"
    },
    {
     "data": {},
     "metadata": {
      "application/vnd.bokehjs_exec.v0+json": {
       "id": "1055"
      }
     },
     "output_type": "display_data"
    }
   ],
   "source": [
    "from global_chem.global_chem import GlobalChem\n",
    "from global_chem_extensions.global_chem_extensions import GlobalChemExtensions\n",
    "\n",
    "gc = GlobalChem()\n",
    "gc.build_global_chem_network(print_output=False, debugger=False)\n",
    "smiles_list = list(gc.get_node_smiles('emerging_perfluoroalkyls').values())\n",
    "print (smiles_list)\n",
    "GlobalChemExtensions().node_pca_analysis(smiles_list, save_file=False)\n"
   ]
  },
  {
   "cell_type": "code",
   "execution_count": null,
   "metadata": {
    "id": "vr8iNR3-NZuh"
   },
   "outputs": [],
   "source": [
    ""
   ]
  }
 ],
 "metadata": {
  "colab": {
   "name": "GlobalChemExtensions_Demonstration.ipynb",
   "provenance": []
  },
  "kernelspec": {
   "name": "python3",
   "display_name": "Python 3"
  },
  "language_info": {
   "name": "python"
  }
 },
 "nbformat": 4,
 "nbformat_minor": 0
}

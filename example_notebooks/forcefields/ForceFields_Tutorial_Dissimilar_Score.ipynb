{
 "cells": [
  {
   "cell_type": "code",
   "execution_count": null,
   "metadata": {
    "colab": {
     "base_uri": "https://localhost:8080/"
    },
    "id": "mE1UmCExJd4v",
    "outputId": "eefee78c-5b83-4c64-aa23-9842563402c5"
   },
   "outputs": [
    {
     "name": "stdout",
     "output_type": "stream",
     "text": [
      "\u001b[K     |████████████████████████████████| 71 kB 3.4 MB/s \n",
      "\u001b[K     |████████████████████████████████| 22.5 MB 1.1 MB/s \n",
      "\u001b[K     |████████████████████████████████| 61 kB 345 kB/s \n",
      "\u001b[?25h  Building wheel for global-chem (setup.py) ... \u001b[?25l\u001b[?25hdone\n",
      "  Building wheel for global-chem-extensions (setup.py) ... \u001b[?25l\u001b[?25hdone\n",
      "  Building wheel for molvs (setup.py) ... \u001b[?25l\u001b[?25hdone\n",
      "  Building wheel for pysmiles (setup.py) ... \u001b[?25l\u001b[?25hdone\n",
      "Cloning into 'global-chem'...\n",
      "remote: Enumerating objects: 3661, done.\u001b[K\n",
      "remote: Counting objects: 100% (3/3), done.\u001b[K\n",
      "remote: Compressing objects: 100% (3/3), done.\u001b[K\n",
      "remote: Total 3661 (delta 0), reused 0 (delta 0), pack-reused 3658\u001b[K\n",
      "Receiving objects: 100% (3661/3661), 47.19 MiB | 12.25 MiB/s, done.\n",
      "Resolving deltas: 100% (2192/2192), done.\n"
     ]
    }
   ],
   "source": [
    "# Installation\n",
    "\n",
    "!pip install -q global-chem[forcefields] --upgrade\n",
    "!rm -rf global-chem/\n",
    "!git clone https://github.com/Sulstice/global-chem"
   ]
  },
  {
   "cell_type": "code",
   "execution_count": null,
   "metadata": {
    "colab": {
     "base_uri": "https://localhost:8080/"
    },
    "id": "nByr_83rJf3A",
    "outputId": "75503d04-9b78-41d0-8ffa-a00b6cf5fa73"
   },
   "outputs": [
    {
     "name": "stdout",
     "output_type": "stream",
     "text": [
      "CGenFF Dissimilar Score: 26\n"
     ]
    }
   ],
   "source": [
    "# Compare the similarity between two molecules using atom types\n",
    "\n",
    "from global_chem_extensions import GlobalChemExtensions\n",
    "ff = GlobalChemExtensions().forcefields()\n",
    "\n",
    "dissimilar_score = ff.compute_cgenff_dissimilar_score(\n",
    "   'global-chem/example_data/forcefield_parameterization/perfluorobutanoic_acid.str',\n",
    "   'global-chem/example_data/forcefield_parameterization/perfluorohexanoic_acid.str',\n",
    ")\n",
    "\n",
    "print (\"CGenFF Dissimilar Score: %s\" % dissimilar_score)"
   ]
  },
  {
   "cell_type": "code",
   "execution_count": null,
   "metadata": {
    "id": "HMu_RKDNKJKF"
   },
   "outputs": [],
   "source": [
    ""
   ]
  }
 ],
 "metadata": {
  "colab": {
   "name": "ForceFields_Tutorial_Dissimilar Score.ipynb",
   "provenance": []
  },
  "kernelspec": {
   "name": "python3",
   "display_name": "Python 3"
  },
  "language_info": {
   "name": "python"
  }
 },
 "nbformat": 4,
 "nbformat_minor": 0
}

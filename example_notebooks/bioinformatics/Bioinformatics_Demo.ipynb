{
 "cells": [
  {
   "cell_type": "code",
   "execution_count": null,
   "metadata": {
    "colab": {
     "base_uri": "https://localhost:8080/"
    },
    "id": "tVM-GB6vKxsZ",
    "outputId": "9a3d6a6e-c3d9-4440-ed07-d626610b123a"
   },
   "outputs": [
    {
     "name": "stdout",
     "output_type": "stream",
     "text": [
      "Cloning into 'global-chem'...\n",
      "remote: Enumerating objects: 3677, done.\u001b[K\n",
      "remote: Counting objects: 100% (19/19), done.\u001b[K\n",
      "remote: Compressing objects: 100% (19/19), done.\u001b[K\n",
      "remote: Total 3677 (delta 7), reused 2 (delta 0), pack-reused 3658\u001b[K\n",
      "Receiving objects: 100% (3677/3677), 47.19 MiB | 20.83 MiB/s, done.\n",
      "Resolving deltas: 100% (2199/2199), done.\n"
     ]
    }
   ],
   "source": [
    "!pip install -q global-chem[bioinformatics] --upgrade\n",
    "!rm -rf global-chem/\n",
    "!git clone https://github.com/Sulstice/global-chem"
   ]
  },
  {
   "cell_type": "code",
   "execution_count": null,
   "metadata": {
    "colab": {
     "base_uri": "https://localhost:8080/"
    },
    "id": "ikAahn42K2gI",
    "outputId": "33738cf6-013c-4169-e2d0-6c3757c916c4"
   },
   "outputs": [
    {
     "name": "stdout",
     "output_type": "stream",
     "text": [
      "<global_chem_extensions.bioinformatics.bioinformatics.Bioinformatics object at 0x7fde516da590>\n"
     ]
    }
   ],
   "source": [
    "from global_chem_extensions import GlobalChemExtensions\n",
    "\n",
    "bioinformatics = GlobalChemExtensions().bioinformatics()\n",
    "print (bioinformatics)"
   ]
  },
  {
   "cell_type": "markdown",
   "metadata": {
    "id": "5WQbWuVDOuSB"
   },
   "source": [
    "#### GlobalChem Protein"
   ]
  },
  {
   "cell_type": "code",
   "execution_count": null,
   "metadata": {
    "id": "pWTN07skNHZS"
   },
   "outputs": [],
   "source": [
    "# Load a Peptide Sequence\n",
    "\n",
    "gc_protein = bioinformatics.initialize_globalchem_protein(\n",
    "        peptide_sequence='AAAA',\n",
    "        # pdb_path=''\n",
    ")"
   ]
  },
  {
   "cell_type": "code",
   "execution_count": null,
   "metadata": {
    "colab": {
     "base_uri": "https://localhost:8080/"
    },
    "id": "4wGaOMxRNQaQ",
    "outputId": "6a8e041a-1741-4b03-f6a8-4d0f4962ecfa"
   },
   "outputs": [
    {
     "name": "stdout",
     "output_type": "stream",
     "text": [
      "SMILES: NC(C)C(NC(C)C(NC(C)C(NC(C)C(NCC(O)=O)=O)=O)=O)=O\n",
      "SMARTS: [#7]-[#6](-[#6])-[#6](-[#7]-[#6](-[#6])-[#6](-[#7]-[#6](-[#6])-[#6](-[#7]-[#6](-[#6])-[#6](-[#7]-[#6]-[#6](-[#8])=[#8])=[#8])=[#8])=[#8])=[#8]\n"
     ]
    }
   ],
   "source": [
    "# Mark Selected Atoms A long the Backbone and Convert to SMILES and SMARTS\n",
    "\n",
    "smiles_protein = gc_protein.convert_to_smiles(\n",
    "    mark_nitrogen_backbone=False,\n",
    "    mark_carbonyl_carbon_backbone = False,\n",
    ")\n",
    "print (\"SMILES: %s\" % smiles_protein)\n",
    "\n",
    "smarts_protein = gc_protein.convert_to_smarts(\n",
    "    mark_nitrogen_backbone=False,\n",
    "    mark_carbonyl_carbon_backbone = False,\n",
    ")\n",
    "print (\"SMARTS: %s\" % smarts_protein)"
   ]
  },
  {
   "cell_type": "code",
   "execution_count": null,
   "metadata": {
    "id": "qNuHXFQ1NW3g"
   },
   "outputs": [],
   "source": [
    "# Fetch a PDB and Retrieve the Ligand\n",
    "\n",
    "gc_protein = bioinformatics.initialize_globalchem_protein(\n",
    "        pdb_id='5tc0',\n",
    ")\n",
    "\n",
    "smiles_molecule = gc_protein.convert_ligand_to_smiles()"
   ]
  },
  {
   "cell_type": "markdown",
   "metadata": {
    "id": "TENh2dAyO0W1"
   },
   "source": [
    "#### GlobalChem DNA"
   ]
  },
  {
   "cell_type": "code",
   "execution_count": null,
   "metadata": {
    "colab": {
     "base_uri": "https://localhost:8080/"
    },
    "id": "QbsB3WEDOiP9",
    "outputId": "569f3bd0-2a16-409c-ed5e-4cb5ee69f656"
   },
   "outputs": [
    {
     "name": "stdout",
     "output_type": "stream",
     "text": [
      "SMILES: Nc1nc2nc(C3CC(OP(=O)([O-])OCC4OC(Cc5c[nH]c(=O)[nH]c5=O)CC4OP(=O)([O-])OCC4OC(c5nc6nc(N)[nH]c(=O)c6[nH]5)CC4OP(=O)([O-])OCC4OC(Cc5c[nH]c(=O)[nH]c5=O)CC4OP(=O)([O-])OCC4OC(c5nc6nc(N)[nH]c(=O)c6[nH]5)CC4OP(=O)([O-])OCC4OC(Cc5c[nH]c(=O)[nH]c5=O)CC4OP(=O)([O-])OCC4OC(c5nc6nc(N)[nH]c(=O)c6[nH]5)CC4OP(=O)([O-])OCC4OC(Cc5c[nH]c(=O)[nH]c5=O)CC4OP(=O)([O-])OCC4OC(c5nc6ncnc(N)c6[nH]5)CC4OP(=O)([O-])OCC4OC(c5nc6ncnc(N)c6[nH]5)CC4OP(=O)([O-])OCC4OC(c5nc6ncnc(N)c6[nH]5)CC4OP(=O)([O-])OCC4OC(c5nc6ncnc(N)c6[nH]5)CC4OP(=O)([O-])[O-])C(COP(=O)([O-])OC4CCOC4CO)O3)[nH]c2c(=O)[nH]1\n"
     ]
    }
   ],
   "source": [
    "# Load a DNA Molecule\n",
    "\n",
    "dna_molecule = bioinformatics.initialize_globalchem_dna(\n",
    "    dna_sequence='AAAATGTGTGTG'\n",
    ")\n",
    "\n",
    "smiles = dna_molecule.convert_to_smiles()\n",
    "print (\"SMILES: %s\" % smiles)\n"
   ]
  },
  {
   "cell_type": "code",
   "execution_count": null,
   "metadata": {
    "colab": {
     "base_uri": "https://localhost:8080/"
    },
    "id": "0GxvyWyNO5Wx",
    "outputId": "14b83a9d-13c4-435d-91f9-1b747b942bc0"
   },
   "outputs": [
    {
     "name": "stdout",
     "output_type": "stream",
     "text": [
      "SMARTS: [#7]-[#6]1:[#7]:[#6]2:[#7]:[#6](-[#6]3-[#6]-[#6](-[#8]-[#15](=[#8])(-[#8-])-[#8]-[#6]-[#6]4-[#8]-[#6](-[#6]-[#6]5:[#6]:[#7H]:[#6](=[#8]):[#7H]:[#6]:5=[#8])-[#6]-[#6]-4-[#8]-[#15](=[#8])(-[#8-])-[#8]-[#6]-[#6]4-[#8]-[#6](-[#6]5:[#7]:[#6]6:[#7]:[#6](-[#7]):[#7H]:[#6](=[#8]):[#6]:6:[#7H]:5)-[#6]-[#6]-4-[#8]-[#15](=[#8])(-[#8-])-[#8]-[#6]-[#6]4-[#8]-[#6](-[#6]-[#6]5:[#6]:[#7H]:[#6](=[#8]):[#7H]:[#6]:5=[#8])-[#6]-[#6]-4-[#8]-[#15](=[#8])(-[#8-])-[#8]-[#6]-[#6]4-[#8]-[#6](-[#6]5:[#7]:[#6]6:[#7]:[#6](-[#7]):[#7H]:[#6](=[#8]):[#6]:6:[#7H]:5)-[#6]-[#6]-4-[#8]-[#15](=[#8])(-[#8-])-[#8]-[#6]-[#6]4-[#8]-[#6](-[#6]-[#6]5:[#6]:[#7H]:[#6](=[#8]):[#7H]:[#6]:5=[#8])-[#6]-[#6]-4-[#8]-[#15](=[#8])(-[#8-])-[#8]-[#6]-[#6]4-[#8]-[#6](-[#6]5:[#7]:[#6]6:[#7]:[#6](-[#7]):[#7H]:[#6](=[#8]):[#6]:6:[#7H]:5)-[#6]-[#6]-4-[#8]-[#15](=[#8])(-[#8-])-[#8]-[#6]-[#6]4-[#8]-[#6](-[#6]-[#6]5:[#6]:[#7H]:[#6](=[#8]):[#7H]:[#6]:5=[#8])-[#6]-[#6]-4-[#8]-[#15](=[#8])(-[#8-])-[#8]-[#6]-[#6]4-[#8]-[#6](-[#6]5:[#7]:[#6]6:[#7]:[#6]:[#7]:[#6](-[#7]):[#6]:6:[#7H]:5)-[#6]-[#6]-4-[#8]-[#15](=[#8])(-[#8-])-[#8]-[#6]-[#6]4-[#8]-[#6](-[#6]5:[#7]:[#6]6:[#7]:[#6]:[#7]:[#6](-[#7]):[#6]:6:[#7H]:5)-[#6]-[#6]-4-[#8]-[#15](=[#8])(-[#8-])-[#8]-[#6]-[#6]4-[#8]-[#6](-[#6]5:[#7]:[#6]6:[#7]:[#6]:[#7]:[#6](-[#7]):[#6]:6:[#7H]:5)-[#6]-[#6]-4-[#8]-[#15](=[#8])(-[#8-])-[#8]-[#6]-[#6]4-[#8]-[#6](-[#6]5:[#7]:[#6]6:[#7]:[#6]:[#7]:[#6](-[#7]):[#6]:6:[#7H]:5)-[#6]-[#6]-4-[#8]-[#15](=[#8])(-[#8-])-[#8-])-[#6](-[#6]-[#8]-[#15](=[#8])(-[#8-])-[#8]-[#6]4-[#6]-[#6]-[#8]-[#6]-4-[#6]-[#8])-[#8]-3):[#7H]:[#6]:2:[#6](=[#8]):[#7H]:1\n"
     ]
    }
   ],
   "source": [
    "# Convert the DNA MOlecule to SMILES\n",
    "\n",
    "dna_molecule = bioinformatics.initialize_globalchem_dna(\n",
    "    dna_sequence='AAAATGTGTGTG'\n",
    ")\n",
    "smarts = dna_molecule.convert_to_smarts()\n",
    "\n",
    "print (\"SMARTS: %s\" % smarts)"
   ]
  },
  {
   "cell_type": "code",
   "execution_count": null,
   "metadata": {
    "colab": {
     "base_uri": "https://localhost:8080/",
     "height": 241.0
    },
    "id": "AsZ2cJOCN40r",
    "outputId": "7a0c3d36-ffdf-4634-e86d-7a0026e00078"
   },
   "outputs": [
    {
     "name": "stderr",
     "output_type": "stream",
     "text": [
      "/usr/local/lib/python3.7/dist-packages/Bio/Seq.py:2983: BiopythonWarning: Partial codon, len(sequence) not a multiple of three. Explicitly trim the sequence or add trailing N before translation. This may become an error in future.\n",
      "  BiopythonWarning,\n"
     ]
    },
    {
     "data": {
      "text/plain": [
       "<matplotlib.axes._subplots.AxesSubplot at 0x7fde41cb66d0>"
      ]
     },
     "execution_count": 16,
     "metadata": {},
     "output_type": "execute_result"
    },
    {
     "data": {
      "image/png": "[encoded data removed]",
      "text/plain": [
       "<Figure size 360x158.4 with 1 Axes>"
      ]
     },
     "metadata": {},
     "output_type": "display_data"
    }
   ],
   "source": [
    "# Label and Visualize a DNA Strand\n",
    "\n",
    "dna_molecule.label_feature(\n",
    "    start=0,\n",
    "    end=3,\n",
    "    label='Start'\n",
    ")\n",
    "\n",
    "dna_molecule.label_feature(\n",
    "    start=4,\n",
    "    end=8,\n",
    "    label='Middle'\n",
    ")\n",
    "\n",
    "\n",
    "dna_molecule.label_feature(\n",
    "    start=4,\n",
    "    end=8,\n",
    "    label='Middle 2',\n",
    "    color='Blue'\n",
    ")\n",
    "\n",
    "dna_molecule.label_feature(\n",
    "    start=8,\n",
    "    end=12,\n",
    "    label='End',\n",
    "    color='Green'\n",
    ")\n",
    "\n",
    "dna_molecule.visualize_strand()"
   ]
  },
  {
   "cell_type": "markdown",
   "metadata": {
    "id": "EvAM2BnfSPvV"
   },
   "source": [
    "#### GlobalChem RNA Molecule"
   ]
  },
  {
   "cell_type": "code",
   "execution_count": null,
   "metadata": {
    "colab": {
     "base_uri": "https://localhost:8080/"
    },
    "id": "Pr4iolVASTLf",
    "outputId": "da9d0080-e4d1-407c-dde7-1dc75fae2aa5"
   },
   "outputs": [
    {
     "name": "stdout",
     "output_type": "stream",
     "text": [
      "SMILES: Nc1nc2nc(C3CC(OP(=O)([O-])OCC4OC(c5nc6nc(N)[nH]c(=O)c6[nH]5)CC4OP(=O)([O-])OCC4OC(c5nc6nc(N)[nH]c(=O)c6[nH]5)CC4OP(=O)([O-])OCC4OC(c5c[nH]c(=O)[nH]c5=O)CC4OP(=O)([O-])OCC4OC(c5nc6nc(N)[nH]c(=O)c6[nH]5)CC4OP(=O)([O-])OCC4OC(c5c[nH]c(=O)[nH]c5=O)CC4OP(=O)([O-])OCC4OC(c5nc6nc(N)[nH]c(=O)c6[nH]5)CC4OP(=O)([O-])OCC4OC(c5c[nH]c(=O)[nH]c5=O)CC4OP(=O)([O-])OCC4OC(c5nc6ncnc(N)c6[nH]5)CC4OP(=O)([O-])OCC4OC(c5nc6ncnc(N)c6[nH]5)CC4OP(=O)([O-])OCC4OC(c5nc6ncnc(N)c6[nH]5)CC4OP(=O)([O-])OCC4OC(c5nc6ncnc(N)c6[nH]5)CC4OP(=O)([O-])[O-])C(COP(=O)([O-])OC4CCOC4CO)O3)[nH]c2c(=O)[nH]1\n"
     ]
    }
   ],
   "source": [
    "# Load the RNA Molecule and Convert to SMILES\n",
    "\n",
    "rna_molecule = bioinformatics.initialize_globalchem_rna(\n",
    "    rna_sequence='AAAAUGUGUGGG'\n",
    ")\n",
    "\n",
    "smiles = rna_molecule.convert_to_smiles()\n",
    "\n",
    "print (\"SMILES: %s\" % smiles)"
   ]
  },
  {
   "cell_type": "code",
   "execution_count": null,
   "metadata": {
    "colab": {
     "base_uri": "https://localhost:8080/"
    },
    "id": "D-BS_iDxSbnC",
    "outputId": "669004b3-7fdc-4c8a-bfb9-d01553fba4a3"
   },
   "outputs": [
    {
     "name": "stdout",
     "output_type": "stream",
     "text": [
      "SMARTS: [#7]-[#6]1:[#7]:[#6]2:[#7]:[#6](-[#6]3-[#6]-[#6](-[#8]-[#15](=[#8])(-[#8-])-[#8]-[#6]-[#6]4-[#8]-[#6](-[#6]5:[#7]:[#6]6:[#7]:[#6](-[#7]):[#7H]:[#6](=[#8]):[#6]:6:[#7H]:5)-[#6]-[#6]-4-[#8]-[#15](=[#8])(-[#8-])-[#8]-[#6]-[#6]4-[#8]-[#6](-[#6]5:[#7]:[#6]6:[#7]:[#6](-[#7]):[#7H]:[#6](=[#8]):[#6]:6:[#7H]:5)-[#6]-[#6]-4-[#8]-[#15](=[#8])(-[#8-])-[#8]-[#6]-[#6]4-[#8]-[#6](-[#6]5:[#6]:[#7H]:[#6](=[#8]):[#7H]:[#6]:5=[#8])-[#6]-[#6]-4-[#8]-[#15](=[#8])(-[#8-])-[#8]-[#6]-[#6]4-[#8]-[#6](-[#6]5:[#7]:[#6]6:[#7]:[#6](-[#7]):[#7H]:[#6](=[#8]):[#6]:6:[#7H]:5)-[#6]-[#6]-4-[#8]-[#15](=[#8])(-[#8-])-[#8]-[#6]-[#6]4-[#8]-[#6](-[#6]5:[#6]:[#7H]:[#6](=[#8]):[#7H]:[#6]:5=[#8])-[#6]-[#6]-4-[#8]-[#15](=[#8])(-[#8-])-[#8]-[#6]-[#6]4-[#8]-[#6](-[#6]5:[#7]:[#6]6:[#7]:[#6](-[#7]):[#7H]:[#6](=[#8]):[#6]:6:[#7H]:5)-[#6]-[#6]-4-[#8]-[#15](=[#8])(-[#8-])-[#8]-[#6]-[#6]4-[#8]-[#6](-[#6]5:[#6]:[#7H]:[#6](=[#8]):[#7H]:[#6]:5=[#8])-[#6]-[#6]-4-[#8]-[#15](=[#8])(-[#8-])-[#8]-[#6]-[#6]4-[#8]-[#6](-[#6]5:[#7]:[#6]6:[#7]:[#6]:[#7]:[#6](-[#7]):[#6]:6:[#7H]:5)-[#6]-[#6]-4-[#8]-[#15](=[#8])(-[#8-])-[#8]-[#6]-[#6]4-[#8]-[#6](-[#6]5:[#7]:[#6]6:[#7]:[#6]:[#7]:[#6](-[#7]):[#6]:6:[#7H]:5)-[#6]-[#6]-4-[#8]-[#15](=[#8])(-[#8-])-[#8]-[#6]-[#6]4-[#8]-[#6](-[#6]5:[#7]:[#6]6:[#7]:[#6]:[#7]:[#6](-[#7]):[#6]:6:[#7H]:5)-[#6]-[#6]-4-[#8]-[#15](=[#8])(-[#8-])-[#8]-[#6]-[#6]4-[#8]-[#6](-[#6]5:[#7]:[#6]6:[#7]:[#6]:[#7]:[#6](-[#7]):[#6]:6:[#7H]:5)-[#6]-[#6]-4-[#8]-[#15](=[#8])(-[#8-])-[#8-])-[#6](-[#6]-[#8]-[#15](=[#8])(-[#8-])-[#8]-[#6]4-[#6]-[#6]-[#8]-[#6]-4-[#6]-[#8])-[#8]-3):[#7H]:[#6]:2:[#6](=[#8]):[#7H]:1\n"
     ]
    }
   ],
   "source": [
    "# Load the RNA Molecule and Convert to SMARTS\n",
    "\n",
    "rna_molecule = bioinformatics.initialize_globalchem_rna(\n",
    "    rna_sequence='AAAAUGUGUGGG'\n",
    ")\n",
    "\n",
    "smarts = rna_molecule.convert_to_smarts()\n",
    "\n",
    "print (\"SMARTS: %s\" % smarts)"
   ]
  },
  {
   "cell_type": "code",
   "execution_count": null,
   "metadata": {
    "colab": {
     "base_uri": "https://localhost:8080/",
     "height": 241.0
    },
    "id": "FO5ogiYgSnl-",
    "outputId": "69a1b52e-a150-4047-db9a-97f2c4d1fd84"
   },
   "outputs": [
    {
     "name": "stderr",
     "output_type": "stream",
     "text": [
      "/usr/local/lib/python3.7/dist-packages/Bio/Seq.py:2983: BiopythonWarning: Partial codon, len(sequence) not a multiple of three. Explicitly trim the sequence or add trailing N before translation. This may become an error in future.\n",
      "  BiopythonWarning,\n"
     ]
    },
    {
     "data": {
      "text/plain": [
       "<matplotlib.axes._subplots.AxesSubplot at 0x7fde41cd0890>"
      ]
     },
     "execution_count": 26,
     "metadata": {},
     "output_type": "execute_result"
    },
    {
     "data": {
      "image/png": "[encoded data removed]",
      "text/plain": [
       "<Figure size 360x158.4 with 1 Axes>"
      ]
     },
     "metadata": {},
     "output_type": "display_data"
    }
   ],
   "source": [
    "# Label and Visualize a DNA Strand\n",
    "\n",
    "rna_molecule.label_feature(\n",
    "    start=0,\n",
    "    end=3,\n",
    "    label='Start'\n",
    ")\n",
    "\n",
    "rna_molecule.label_feature(\n",
    "    start=4,\n",
    "    end=8,\n",
    "    label='Middle'\n",
    ")\n",
    "\n",
    "\n",
    "rna_molecule.label_feature(\n",
    "    start=4,\n",
    "    end=8,\n",
    "    label='Middle 2',\n",
    "    color='Blue'\n",
    ")\n",
    "\n",
    "rna_molecule.label_feature(\n",
    "    start=8,\n",
    "    end=12,\n",
    "    label='End',\n",
    "    color='Green'\n",
    ")\n",
    "\n",
    "rna_molecule.visualize_strand()"
   ]
  },
  {
   "cell_type": "code",
   "execution_count": null,
   "metadata": {
    "id": "HdLpMEIXS5wN"
   },
   "outputs": [],
   "source": [
    ""
   ]
  }
 ],
 "metadata": {
  "colab": {
   "name": "Bioinformatics_Demo.ipynb",
   "provenance": []
  },
  "kernelspec": {
   "name": "python3",
   "display_name": "Python 3"
  },
  "language_info": {
   "name": "python"
  }
 },
 "nbformat": 4,
 "nbformat_minor": 0
}

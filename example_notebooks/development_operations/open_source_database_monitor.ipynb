{
 "cells": [
  {
   "cell_type": "code",
   "execution_count": 1,
   "metadata": {
    "id": "PY-f8bB8jpqi"
   },
   "outputs": [],
   "source": [
    "# Environment Setup\n",
    "\n",
    "!rm -rf global-chem\n",
    "!git clone -q https://github.com/Sulstice/global-chem\n",
    "\n",
    "!pip install -q global-chem[extensions] --upgrade"
   ]
  },
  {
   "cell_type": "code",
   "execution_count": 2,
   "metadata": {
    "id": "NoYEtzDf1jYF"
   },
   "outputs": [],
   "source": [
    "# Header\n",
    "\n",
    "from global_chem import GlobalChem\n",
    "from global_chem_extensions import GlobalChemExtensions\n",
    "\n",
    "gc = GlobalChem()\n",
    "gce = GlobalChemExtensions()"
   ]
  },
  {
   "cell_type": "code",
   "execution_count": null,
   "metadata": {
    "colab": {
     "base_uri": "https://localhost:8080/"
    },
    "id": "UWRGdx8zStAL",
    "outputId": "f916b146-4f1d-4dc1-86fc-d1121719d965"
   },
   "outputs": [
    {
     "name": "stdout",
     "output_type": "stream",
     "text": [
      " Zinc 15\n",
      " Zinc 20\n",
      " PubChem\n",
      " NIST Chemistry Webhook\n",
      " Chem Exper\n",
      " NMR Shift Database\n",
      " Drug Bank\n",
      " Binding Database\n",
      " Spectral Database for Organic Compounds\n",
      " Sider\n",
      " ChemSpider\n",
      " Stitch\n",
      " CardPred\n",
      " Comparative Toxicogenomics Database\n",
      " AMED Cardiotoxicity Database\n",
      " Tox21\n",
      " Drug Safety Analysis System\n",
      " OpenFDA\n",
      " Metabolites Biological Role\n",
      " MetaboAnalyst\n",
      " Adverse Drug Reaction Classification System\n",
      " Metabolism and Transport Database\n",
      " Ecology Toxicity \n",
      " Human and Environment Risk Assessment \n",
      " International Toxicity Information for Risk Assesments\n",
      " Japan Exisiting Database\n",
      " National Pesticide Center\n",
      " Pesticide Info\n",
      " Kyoto Encyclopedia of Genes and Genomes\n",
      " Hetereocycles\n",
      " Chemical Resolver\n",
      " LookChem\n",
      " Lipid Maps\n"
     ]
    }
   ],
   "source": [
    "# Database Monitoring\n",
    "\n",
    "GlobalChemExtensions.check_status_on_open_source_databases()"
   ]
  }
 ],
 "metadata": {
  "colab": {
   "name": "GlobalChemExtensions_Demonstration.ipynb",
   "provenance": []
  },
  "kernelspec": {
   "name": "python3",
   "display_name": "Python 3"
  },
  "language_info": {
   "name": "python"
  }
 },
 "nbformat": 4,
 "nbformat_minor": 0
}

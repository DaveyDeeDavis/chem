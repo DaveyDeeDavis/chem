{
 "cells": [
  {
   "cell_type": "code",
   "execution_count": null,
   "metadata": {
    "id": "PY-f8bB8jpqi",
    "colab": {
     "base_uri": "https://localhost:8080/"
    },
    "outputId": "6ecff06e-5b27-4026-a036-cd8ea8a5d0c4"
   },
   "outputs": [
    {
     "name": "stdout",
     "output_type": "stream",
     "text": [
      "  Building wheel for global-chem-extensions (setup.py) ... \u001b[?25l\u001b[?25hdone\n"
     ]
    }
   ],
   "source": [
    "# Environment Setup\n",
    "\n",
    "!rm -rf global-chem\n",
    "!git clone -q https://github.com/Sulstice/global-chem\n",
    "\n",
    "!pip install -q global-chem-extensions --upgrade"
   ]
  },
  {
   "cell_type": "code",
   "execution_count": null,
   "metadata": {
    "id": "NoYEtzDf1jYF"
   },
   "outputs": [],
   "source": [
    "# Header\n",
    "\n",
    "from global_chem import GlobalChem\n",
    "from global_chem_extensions import GlobalChemExtensions\n",
    "\n",
    "gc = GlobalChem()\n",
    "gce = GlobalChemExtensions()"
   ]
  },
  {
   "cell_type": "code",
   "execution_count": null,
   "metadata": {
    "colab": {
     "base_uri": "https://localhost:8080/"
    },
    "id": "rI182ix3lVT5",
    "outputId": "05282077-3141-4003-e7ad-18649a5c4c6f"
   },
   "outputs": [
    {
     "name": "stdout",
     "output_type": "stream",
     "text": [
      "Name: cyclopentane\n",
      "Attributes: {'name': 'cyclopentane', 'smiles': 'C1CCCC1', 'molecular_weight': 70.07825032, 'logp': 1.9505000000000001, 'h_bond_donor': 0, 'h_bond_acceptors': 0, 'rotatable_bonds': 0, 'number_of_atoms': 5, 'molar_refractivity': 23.084999999999994, 'topological_surface_area_mapping': 0.0, 'formal_charge': 0, 'heavy_atoms': 5, 'num_of_rings': 1}\n",
      "RDKit Mol: <rdkit.Chem.rdchem.Mol object at 0x7f7259a7cb20>\n",
      "PySMILES: Graph with 5 nodes and 5 edges\n",
      "Partial SMILES: Molecule(atoms=['Atom(elem=6,chg=0,idx=0)', 'Atom(elem=6,chg=0,idx=1)', 'Atom(elem=6,chg=0,idx=2)', 'Atom(elem=6,chg=0,idx=3)', 'Atom(elem=6,chg=0,idx=4)'])\n",
      "DeepSMILES: CCCCC5\n",
      "Selfies Mol: [C][C][C][C][C][Ring1][Branch1]\n",
      "Validation: ['INFO: [FragmentValidation] pentane is present']\n"
     ]
    }
   ],
   "source": [
    "# GlobalChem Molecule\n",
    "\n",
    "global_chem_molecule = gce.initialize_globalchem_molecule(\n",
    "    'C1CCCC1',\n",
    "    stream_file=None,\n",
    "    frcmod_file=None,\n",
    ")\n",
    "global_chem_molecule.determine_name()\n",
    "\n",
    "name = global_chem_molecule.name\n",
    "attributes = global_chem_molecule.get_attributes()\n",
    "\n",
    "pysmiles_mol = global_chem_molecule.get_pysmiles()\n",
    "rdkit_mol = global_chem_molecule.get_rdkit_molecule()\n",
    "partial_smiles_mol = global_chem_molecule.get_partial_smiles()\n",
    "deep_smiles_mol = global_chem_molecule.encode_deep_smiles()\n",
    "selfies_mol = global_chem_molecule.encode_selfies()\n",
    "\n",
    "validate_smiles = global_chem_molecule.validate_molvs()\n",
    "\n",
    "print (\"Name: %s\" % name)\n",
    "print (\"Attributes: %s\" % attributes)\n",
    "\n",
    "print (\"RDKit Mol: %s\" % rdkit_mol)\n",
    "print (\"PySMILES: %s\" % pysmiles_mol)\n",
    "print (\"Partial SMILES: %s\" % partial_smiles_mol)\n",
    "print (\"DeepSMILES: %s\" % deep_smiles_mol)\n",
    "print (\"Selfies Mol: %s\" % selfies_mol)\n",
    "print (\"Validation: %s\" % validate_smiles)"
   ]
  }
 ],
 "metadata": {
  "colab": {
   "name": "Copy of GlobalChemExtensions_Demonstration.ipynb",
   "provenance": []
  },
  "kernelspec": {
   "name": "python3",
   "display_name": "Python 3"
  },
  "language_info": {
   "name": "python"
  }
 },
 "nbformat": 4,
 "nbformat_minor": 0
}

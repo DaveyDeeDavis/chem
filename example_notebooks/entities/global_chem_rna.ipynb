{
 "cells": [
  {
   "cell_type": "code",
   "execution_count": 16,
   "metadata": {
    "id": "PY-f8bB8jpqi",
    "colab": {
     "base_uri": "https://localhost:8080/"
    },
    "outputId": "dd82dfe9-0d15-4fbc-875a-86d87f459da7"
   },
   "outputs": [
    {
     "name": "stdout",
     "output_type": "stream",
     "text": [
      "  Building wheel for global-chem-extensions (setup.py) ... \u001b[?25l\u001b[?25hdone\n"
     ]
    }
   ],
   "source": [
    "# Environment Setup\n",
    "\n",
    "!rm -rf global-chem\n",
    "!git clone -q https://github.com/Sulstice/global-chem\n",
    "\n",
    "!pip install -q global-chem-extensions --upgrade"
   ]
  },
  {
   "cell_type": "code",
   "execution_count": 1,
   "metadata": {
    "id": "NoYEtzDf1jYF"
   },
   "outputs": [],
   "source": [
    "# Header\n",
    "\n",
    "from global_chem import GlobalChem\n",
    "from global_chem_extensions import GlobalChemExtensions\n",
    "\n",
    "gc = GlobalChem()\n",
    "gce = GlobalChemExtensions()"
   ]
  },
  {
   "cell_type": "code",
   "execution_count": 4,
   "metadata": {
    "colab": {
     "base_uri": "https://localhost:8080/",
     "height": 256.0
    },
    "id": "rA8G505SD0nF",
    "outputId": "d80fa403-2ae3-4448-9cec-d180a948481a"
   },
   "outputs": [
    {
     "name": "stdout",
     "output_type": "stream",
     "text": [
      "Nc1nc2nc(C3CC(OP(=O)([O-])OCC4OC(c5c[nH]c(=O)[nH]c5=O)CC4OP(=O)([O-])OCC4OC(c5nc6nc(N)[nH]c(=O)c6[nH]5)CC4OP(=O)([O-])OCC4OC(c5c[nH]c(=O)[nH]c5=O)CC4OP(=O)([O-])OCC4OC(c5nc6nc(N)[nH]c(=O)c6[nH]5)CC4OP(=O)([O-])OCC4OC(c5c[nH]c(=O)[nH]c5=O)CC4OP(=O)([O-])OCC4OC(c5nc6nc(N)[nH]c(=O)c6[nH]5)CC4OP(=O)([O-])OCC4OC(c5c[nH]c(=O)[nH]c5=O)CC4OP(=O)([O-])OCC4OC(c5nc6ncnc(N)c6[nH]5)CC4OP(=O)([O-])OCC4OC(c5nc6ncnc(N)c6[nH]5)CC4OP(=O)([O-])OCC4OC(c5nc6ncnc(N)c6[nH]5)CC4OP(=O)([O-])OCC4OC(c5nc6ncnc(N)c6[nH]5)CC4OP(=O)([O-])[O-])C(COP(=O)([O-])OC4CCOC4CO)O3)[nH]c2c(=O)[nH]1\n"
     ]
    },
    {
     "name": "stderr",
     "output_type": "stream",
     "text": [
      "/usr/local/lib/python3.7/dist-packages/Bio/Seq.py:2983: BiopythonWarning: Partial codon, len(sequence) not a multiple of three. Explicitly trim the sequence or add trailing N before translation. This may become an error in future.\n",
      "  BiopythonWarning,\n"
     ]
    },
    {
     "data": {
      "text/plain": [
       "<matplotlib.axes._subplots.AxesSubplot at 0x7efc81c4ddd0>"
      ]
     },
     "execution_count": 4,
     "metadata": {},
     "output_type": "execute_result"
    },
    {
     "data": {
      "image/png": "[encoded data removed]",
      "text/plain": [
       "<Figure size 360x158.4 with 1 Axes>"
      ]
     },
     "metadata": {},
     "output_type": "display_data"
    }
   ],
   "source": [
    "# GlobalChem DNA (And Same for RNA)\n",
    "\n",
    "rna_molecule = gce.initialize_globalchem_rna(\n",
    "    rna_sequence='AAAAUGUGUGUG'\n",
    ")\n",
    "\n",
    "smiles = rna_molecule.convert_to_smiles()\n",
    "\n",
    "print (smiles)\n",
    "\n",
    "rna_molecule.label_feature(\n",
    "    start=0,\n",
    "    end=3,\n",
    "    label='Start'\n",
    ")\n",
    "\n",
    "rna_molecule.label_feature(\n",
    "    start=4,\n",
    "    end=8,\n",
    "    label='Middle'\n",
    ")\n",
    "\n",
    "\n",
    "rna_molecule.label_feature(\n",
    "    start=4,\n",
    "    end=8,\n",
    "    label='Middle 2',\n",
    "    color='Blue'\n",
    ")\n",
    "\n",
    "rna_molecule.label_feature(\n",
    "    start=8,\n",
    "    end=12,\n",
    "    label='End',\n",
    "    color='Green'\n",
    ")\n",
    "\n",
    "rna_molecule.visualize_strand()\n"
   ]
  }
 ],
 "metadata": {
  "colab": {
   "name": "GlobalChemExtensions_Demonstration.ipynb",
   "provenance": []
  },
  "kernelspec": {
   "name": "python3",
   "display_name": "Python 3"
  },
  "language_info": {
   "name": "python"
  }
 },
 "nbformat": 4,
 "nbformat_minor": 0
}

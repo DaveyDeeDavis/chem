{
 "cells": [
  {
   "cell_type": "code",
   "execution_count": 7,
   "metadata": {
    "id": "PY-f8bB8jpqi"
   },
   "outputs": [],
   "source": [
    "# Environment Setup\n",
    "\n",
    "!rm -rf global-chem\n",
    "!git clone -q https://github.com/Sulstice/global-chem\n",
    "\n",
    "!pip install -q global-chem[bioinformatics] --upgrade"
   ]
  },
  {
   "cell_type": "code",
   "execution_count": 1,
   "metadata": {
    "id": "NoYEtzDf1jYF"
   },
   "outputs": [],
   "source": [
    "# Header\n",
    "\n",
    "from global_chem import GlobalChem\n",
    "from global_chem_extensions import GlobalChemExtensions\n",
    "\n",
    "gc = GlobalChem()\n",
    "gce = GlobalChemExtensions()"
   ]
  },
  {
   "cell_type": "code",
   "execution_count": 4,
   "metadata": {
    "colab": {
     "base_uri": "https://localhost:8080/"
    },
    "id": "nBFyKxlc9foa",
    "outputId": "1d625176-190b-4881-e7ca-e4a0346c6b6e"
   },
   "outputs": [
    {
     "name": "stdout",
     "output_type": "stream",
     "text": [
      "[N:1]C(C)C([N:1]C(C)C([N:1]C(C)C([N:1]C(C)C([N:1]CC(O)=O)=O)=O)=O)=O\n",
      "[#7:1]-[#6](-[#6])-[#6](-[#7:1]-[#6](-[#6])-[#6](-[#7:1]-[#6](-[#6])-[#6](-[#7:1]-[#6](-[#6])-[#6](-[#7:1]-[#6]-[#6](-[#8])=[#8])=[#8])=[#8])=[#8])=[#8]\n"
     ]
    }
   ],
   "source": [
    "# GlobalChem Protein\n",
    "\n",
    "gc_protein = gce.initialize_globalchem_protein(\n",
    "        # pdb_file='file.pdb',\n",
    "        # fetch_pdb='5tc0',\n",
    "        peptide_sequence='AAAA',\n",
    ")\n",
    "\n",
    "smiles_protein = gc_protein.convert_to_smiles(\n",
    "    mark_nitrogen_backbone=True,\n",
    "    mark_carbonyl_carbon_backbone = False,\n",
    ")\n",
    "print (smiles_protein)\n",
    "\n",
    "smarts_protein = gc_protein.convert_to_smarts(\n",
    "    mark_nitrogen_backbone=True,\n",
    "    mark_carbonyl_carbon_backbone = False,\n",
    ")\n",
    "print (smarts_protein)"
   ]
  }
 ],
 "metadata": {
  "colab": {
   "name": "GlobalChemExtensions_Demonstration.ipynb",
   "provenance": []
  },
  "kernelspec": {
   "name": "python3",
   "display_name": "Python 3"
  },
  "language_info": {
   "name": "python"
  }
 },
 "nbformat": 4,
 "nbformat_minor": 0
}

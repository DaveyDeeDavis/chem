{
 "cells": [
  {
   "cell_type": "code",
   "execution_count": 1,
   "metadata": {
    "id": "PY-f8bB8jpqi",
    "colab": {
     "base_uri": "https://localhost:8080/"
    },
    "outputId": "a1f0abe0-b10f-447c-a6b7-7faa67ca91d3"
   },
   "outputs": [
    {
     "name": "stdout",
     "output_type": "stream",
     "text": [
      "\u001b[K     |████████████████████████████████| 71 kB 2.7 MB/s \n",
      "\u001b[K     |████████████████████████████████| 22.5 MB 1.5 MB/s \n",
      "\u001b[K     |████████████████████████████████| 272 kB 36.1 MB/s \n",
      "\u001b[?25h  Building wheel for global-chem (setup.py) ... \u001b[?25l\u001b[?25hdone\n",
      "  Building wheel for global-chem-extensions (setup.py) ... \u001b[?25l\u001b[?25hdone\n",
      "  Building wheel for dimorphite-dl (setup.py) ... \u001b[?25l\u001b[?25hdone\n"
     ]
    }
   ],
   "source": [
    "# Environment Setup\n",
    "\n",
    "!rm -rf global-chem\n",
    "!git clone -q https://github.com/Sulstice/global-chem\n",
    "\n",
    "!pip install -q global-chem[extensions] --upgrade"
   ]
  },
  {
   "cell_type": "code",
   "execution_count": 2,
   "metadata": {
    "id": "NoYEtzDf1jYF"
   },
   "outputs": [],
   "source": [
    "# Header\n",
    "\n",
    "from global_chem import GlobalChem\n",
    "from global_chem_extensions import GlobalChemExtensions\n",
    "\n",
    "gc = GlobalChem()\n",
    "gce = GlobalChemExtensions()"
   ]
  },
  {
   "cell_type": "code",
   "execution_count": 5,
   "metadata": {
    "colab": {
     "base_uri": "https://localhost:8080/"
    },
    "id": "nBFyKxlc9foa",
    "outputId": "3d171eb9-dfe1-4cc4-b32a-087ba4c4d7e4"
   },
   "outputs": [
    {
     "name": "stdout",
     "output_type": "stream",
     "text": [
      "[N:1]C(C)C([N:1]C(C)C([N:1]C(C)C([N:1]C(C)C([N:1]CC(O)=O)=O)=O)=O)=O\n",
      "[#7:1]-[#6](-[#6])-[#6](-[#7:1]-[#6](-[#6])-[#6](-[#7:1]-[#6](-[#6])-[#6](-[#7:1]-[#6](-[#6])-[#6](-[#7:1]-[#6]-[#6](-[#8])=[#8])=[#8])=[#8])=[#8])=[#8]\n",
      "Passed Check 1 Molecular Weight: 433.08784608800005 \n",
      "Passed Check 2 Non Hydrogen Atoms: 29 \n",
      "Passed Check 3 All Atoms Are Within Element Boundaries\n",
      "Passed Check 4 Non-Hydrogen & Non-Carbon Atoms Present: 11\n",
      "Passed Check 5 Less than Two Phosphorous atoms Present\n",
      "Passed Check 6 Less than Ten Rotatable Bonds Present\n",
      "Passed Check 7 No Nucleic Acid Template Found\n",
      "Passed Check 9 Not a Covalent Inhibitor\n",
      "Check 11 Has Contacts within 7 Angstroms\n",
      "Ligand: CS(=O)(=O)N1CCOC(C1)c2csc(n2)c3ccccc3NC(=O)c4[nH]ccn4, Criteria Met: True\n",
      "Passed Check 1 Molecular Weight: 433.08784608800005 \n",
      "Passed Check 2 Non Hydrogen Atoms: 29 \n",
      "Passed Check 3 All Atoms Are Within Element Boundaries\n",
      "Passed Check 4 Non-Hydrogen & Non-Carbon Atoms Present: 11\n",
      "Passed Check 5 Less than Two Phosphorous atoms Present\n",
      "Passed Check 6 Less than Ten Rotatable Bonds Present\n",
      "Passed Check 7 No Nucleic Acid Template Found\n",
      "Passed Check 9 Not a Covalent Inhibitor\n",
      "Check 11 Has Contacts within 7 Angstroms\n",
      "Ligand: CS(=O)(=O)N1CCOC(C1)c2csc(n2)c3ccccc3NC(=O)c4[nH]ccn4, Criteria Met: True\n"
     ]
    }
   ],
   "source": [
    "# GlobalChem Protein\n",
    "\n",
    "gc_protein = gce.initialize_globalchem_protein(\n",
    "        # pdb_file='file.pdb',\n",
    "        # fetch_pdb='5tc0',\n",
    "        peptide_sequence='AAAA',\n",
    ")\n",
    "\n",
    "smiles_protein = gc_protein.convert_to_smiles(\n",
    "    mark_nitrogen_backbone=True,\n",
    "    mark_carbonyl_carbon_backbone = False,\n",
    ")\n",
    "\n",
    "# print (smiles_protein)\n",
    "\n",
    "smarts_protein = gc_protein.convert_to_smarts(\n",
    "    mark_nitrogen_backbone=True,\n",
    "    mark_carbonyl_carbon_backbone = False,\n",
    ")\n",
    "# print (smarts_protein)\n",
    "\n",
    "pdb_ids = ['5tc0', '4EHM',]\n",
    "\n",
    "for pdb in pdb_ids:\n",
    "    gc_protein = gce.initialize_globalchem_protein(\n",
    "        pdb_id='5tc0',\n",
    "    )\n",
    "\n",
    "    criteria_met = gc_protein.determine_bostrom_ligand_criteria(verbose=True)\n",
    "    ligand_smiles = gc_protein.ligand_smiles\n",
    "\n",
    "    print (\"Ligand: %s, Criteria Met: %s\" % (ligand_smiles, criteria_met))"
   ]
  }
 ],
 "metadata": {
  "colab": {
   "name": "GlobalChemExtensions_Demonstration.ipynb",
   "provenance": []
  },
  "kernelspec": {
   "name": "python3",
   "display_name": "Python 3"
  },
  "language_info": {
   "name": "python"
  }
 },
 "nbformat": 4,
 "nbformat_minor": 0
}

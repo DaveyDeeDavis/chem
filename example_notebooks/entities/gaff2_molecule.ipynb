{
 "cells": [
  {
   "cell_type": "code",
   "execution_count": 5,
   "metadata": {
    "id": "PY-f8bB8jpqi"
   },
   "outputs": [],
   "source": [
    "# Environment Setup\n",
    "\n",
    "!rm -rf global-chem\n",
    "!git clone -q https://github.com/Sulstice/global-chem\n",
    "\n",
    "!pip install -q global-chem[extensions] --upgrade"
   ]
  },
  {
   "cell_type": "code",
   "execution_count": 4,
   "metadata": {
    "id": "NoYEtzDf1jYF"
   },
   "outputs": [],
   "source": [
    "# Header\n",
    "\n",
    "from global_chem import GlobalChem\n",
    "from global_chem_extensions import GlobalChemExtensions\n",
    "\n",
    "gc = GlobalChem()\n",
    "gce = GlobalChemExtensions()"
   ]
  },
  {
   "cell_type": "code",
   "execution_count": 8,
   "metadata": {
    "colab": {
     "base_uri": "https://localhost:8080/"
    },
    "id": "6TlLEyZRtC7h",
    "outputId": "4dd1e682-3332-4e62-d044-bd060958073a"
   },
   "outputs": [
    {
     "name": "stdout",
     "output_type": "stream",
     "text": [
      "  atom_types rmin epsilon\n",
      "0      ca-h4  1.1   180.0\n",
      "1      ca-h4  1.1   180.0      atom_types fluctuations force_constants harmonic_value multiplicities\n",
      "0          ca-ns            0           1.412         315.20              0\n",
      "1           c-ns            0           1.379         356.20              0\n",
      "2          hn-ns            0           1.013         527.30              0\n",
      "3        c-ns-ca            0          65.700        123.710              0\n",
      "4       ca-ns-hn            0          48.000        116.000              0\n",
      "5         ns-c-o            0         113.800        123.050              0\n",
      "6        c-ns-hn            0          48.700        117.550              0\n",
      "7       ca-ca-ns            0          85.600        120.190              0\n",
      "8        c3-c-ns            0          84.300        115.180              0\n",
      "9      o-c-ns-ca            4          10.000        180.000          2.000\n",
      "10    c3-c-ns-ca            1           0.750        180.000         -2.000\n",
      "11    c3-c-ns-ca            1           0.500          0.000          3.000\n",
      "12     o-c-ns-hn            1           2.500        180.000         -2.000\n",
      "13     o-c-ns-hn            1           2.000          0.000          1.000\n",
      "14    ca-ca-ns-c            1           0.950        180.000          2.000\n",
      "15    ns-c-c3-c3            1           0.000        180.000         -4.000\n",
      "16    ns-c-c3-c3            1           0.710        180.000          2.000\n",
      "17   ca-ca-ns-hn            4             200        180.000          2.000\n",
      "18    c3-c-ns-hn            4          10.000        180.000          2.000\n",
      "19  *ca-ca-ca-ns            0             1.1          180.0            2.0\n",
      "20  *ca-ca-ca-ha            0             1.1          180.0            2.0\n",
      "21    *c3-ns-c-o            0            10.5          180.0            2.0\n",
      "22   *c-ca-ns-hn            0             1.1          180.0            2.0\n",
      "23  *ca-h4-ca-nb            0             1.1          180.0            2.0\n",
      "['o -c -ns-ca   4   10.000       180.000           2.000      same as X -c -n -X , penalty score=  0.0', 'c3-c -ns-ca   1    0.750       180.000          -2.000      same as c3-c -n -ca', 'c3-c -ns-ca   1    0.500         0.000           3.000      same as c3-c -n -ca, penalty score=  0.0', 'o -c -ns-hn   1    2.500       180.000          -2.000      same as hn-n -c -o', 'o -c -ns-hn   1    2.000         0.000           1.000      same as hn-n -c -o , penalty score=  0.0', 'ca-ca-ns-c    1    0.950       180.000           2.000      same as c -n -ca-ca, penalty score=  0.0', 'ns-c -c3-c3   1    0.000       180.000          -4.000      same as n -c -c3-c3', 'ns-c -c3-c3   1    0.710       180.000           2.000      same as n -c -c3-c3, penalty score=  0.0', 'ca-ca-ns-hn   4    1.800       180.000           2.000      same as X -ca-n -X , penalty score=  0.0', 'c3-c -ns-hn   4   10.000       180.000           2.000      same as X -c -n -X , penalty score=  0.0']\n",
      "\n",
      "Remark line goes here\n",
      "MASS\n",
      "BONDS\n",
      "ca-ns\t1.412\t315.20\n",
      "c-ns\t1.379\t356.20\n",
      "hn-ns\t1.013\t527.30\n",
      "\n",
      "ANGLE\n",
      "c-ns-ca\t123.710\t65.700\n",
      "ca-ns-hn\t116.000\t48.000\n",
      "ns-c-o\t123.050\t113.800\n",
      "c-ns-hn\t117.550\t48.700\n",
      "ca-ca-ns\t120.190\t85.600\n",
      "c3-c-ns\t115.180\t84.300\n",
      "\n",
      "DIHE\n",
      "o-c-ns-ca\t4\t10.000\t180.000\t2.000\n",
      "c3-c-ns-ca\t1\t0.750\t180.000\t-2.000\n",
      "c3-c-ns-ca\t1\t0.500\t0.000\t3.000\n",
      "o-c-ns-hn\t1\t2.500\t180.000\t-2.000\n",
      "o-c-ns-hn\t1\t2.000\t0.000\t1.000\n",
      "ca-ca-ns-c\t1\t0.950\t180.000\t2.000\n",
      "ns-c-c3-c3\t1\t0.000\t180.000\t-4.000\n",
      "ns-c-c3-c3\t1\t0.710\t180.000\t2.000\n",
      "ca-ca-ns-hn\t4\t1.800\t180.000\t2.000\n",
      "c3-c-ns-hn\t4\t10.000\t180.000\t2.000\n",
      "\n",
      "IMPROPER\n",
      "ca-ca-ca-ns-1.1\t180.0\t2.0 \n",
      "ca-ca-ca-ha-1.1\t180.0\t2.0 \n",
      "c3-ns-c-o-10.5\t180.0\t2.0 \n",
      "c-ca-ns-hn-1.1\t180.0\t2.0 \n",
      "ca-h4-ca-nb-1.1\t180.0\t2.0 \n",
      "\n",
      "\n",
      "NONBON\n",
      "ca-h4\t1.1\t180.0\n",
      "ca-h4\t1.1\t180.0\n"
     ]
    }
   ],
   "source": [
    "# GAFF2 Functions\n",
    "\n",
    "# Read in GAFF2 Molecule\n",
    "\n",
    "gaff2_molecule = gce.initialize_gaff2_molecule(\n",
    "    'global-chem/example_data/forcefield_parameterization/amber_gws.frcmod'\n",
    ")\n",
    "\n",
    "gaff2_molecule.update_bonded_dataframe(\n",
    "    'ca-ca-ns-hn',\n",
    "     200,\n",
    "     force_constant=True,\n",
    "     harmonic_value=False,\n",
    "     multiplicity=False,\n",
    "     fluctuation=False,\n",
    ")\n",
    "\n",
    "print (gaff2_molecule)\n",
    "print (gaff2_molecule.dihedral_parameters)\n",
    "\n",
    "gaff2_molecule.write_frcmod_file('new.frcmod')\n",
    "\n",
    "!cat new.frcmod"
   ]
  }
 ],
 "metadata": {
  "colab": {
   "name": "Copy of GlobalChemExtensions_Demonstration.ipynb",
   "provenance": []
  },
  "kernelspec": {
   "name": "python3",
   "display_name": "Python 3"
  },
  "language_info": {
   "name": "python"
  }
 },
 "nbformat": 4,
 "nbformat_minor": 0
}

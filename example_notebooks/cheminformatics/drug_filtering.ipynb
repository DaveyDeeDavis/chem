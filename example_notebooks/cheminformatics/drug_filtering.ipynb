{
 "cells": [
  {
   "cell_type": "code",
   "execution_count": 1,
   "metadata": {
    "id": "PY-f8bB8jpqi"
   },
   "outputs": [],
   "source": [
    "# Environment Setup\n",
    "\n",
    "!rm -rf global-chem\n",
    "!git clone -q https://github.com/Sulstice/global-chem\n",
    "\n",
    "!pip install -q global-chem[extensions] --upgrade"
   ]
  },
  {
   "cell_type": "code",
   "execution_count": 2,
   "metadata": {
    "id": "NoYEtzDf1jYF"
   },
   "outputs": [],
   "source": [
    "# Header\n",
    "\n",
    "from global_chem import GlobalChem\n",
    "from global_chem_extensions import GlobalChemExtensions\n",
    "\n",
    "gc = GlobalChem()\n",
    "gce = GlobalChemExtensions()"
   ]
  },
  {
   "cell_type": "code",
   "execution_count": null,
   "metadata": {
    "colab": {
     "base_uri": "https://localhost:8080/"
    },
    "id": "bvpiip2dSyeq",
    "outputId": "733553c8-f5b3-4017-a8c3-486436c0fc2c"
   },
   "outputs": [
    {
     "name": "stdout",
     "output_type": "stream",
     "text": [
      "['O=C(O)C(F)(F)C(F)(F)C(F)(F)C(F)(F)C(F)(F)F', 'O=C(O)C(F)(F)C(F)(F)C(F)(F)C(F)(F)C(F)(F)C(F)(F)F', 'O=S(=O)(O)C(F)(F)C(F)(F)C(F)(F)C(F)(F)F', 'O=S(=O)(O)C(F)(F)C(F)(F)C(F)(F)C(F)(F)C(F)(F)C(F)(F)F', 'FC(F)(F)C1(F)OC1(F)F', 'O=C(O)C(F)(F)C(F)(F)C(F)(F)F', 'O=C(O)C(F)(F)C(F)(F)C(F)(F)C(F)(F)F', 'O=S(=O)(O)C(F)(F)C(F)(F)C(F)(F)C(F)(F)C(F)(F)F']\n"
     ]
    }
   ],
   "source": [
    "# Drug Filtering\n",
    "\n",
    "gc.build_global_chem_network(print_output=False, debugger=False)\n",
    "smiles_list = list(gc.get_node_smiles('emerging_perfluoroalkyls').values())\n",
    "\n",
    "filtered_smiles = GlobalChemExtensions.filter_smiles_by_criteria(\n",
    "    smiles_list,\n",
    "    lipinski_rule_of_5=True,\n",
    "    ghose=False,\n",
    "    veber=False,\n",
    "    rule_of_3=False,\n",
    "    reos=False,\n",
    "    drug_like=False,\n",
    "    pass_all_filters=False\n",
    ")\n",
    "\n",
    "print (filtered_smiles)"
   ]
  }
 ],
 "metadata": {
  "colab": {
   "name": "GlobalChemExtensions_Demonstration.ipynb",
   "provenance": []
  },
  "kernelspec": {
   "name": "python3",
   "display_name": "Python 3"
  },
  "language_info": {
   "name": "python"
  }
 },
 "nbformat": 4,
 "nbformat_minor": 0
}

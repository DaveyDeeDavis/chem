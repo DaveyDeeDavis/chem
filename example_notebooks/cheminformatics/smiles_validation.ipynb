{
 "cells": [
  {
   "cell_type": "code",
   "execution_count": 1,
   "metadata": {
    "id": "PY-f8bB8jpqi"
   },
   "outputs": [],
   "source": [
    "# Environment Setup\n",
    "\n",
    "!rm -rf global-chem\n",
    "!git clone -q https://github.com/Sulstice/global-chem\n",
    "\n",
    "!pip install -q global-chem[validation] --upgrade"
   ]
  },
  {
   "cell_type": "code",
   "execution_count": 2,
   "metadata": {
    "id": "NoYEtzDf1jYF"
   },
   "outputs": [],
   "source": [
    "# Header\n",
    "\n",
    "from global_chem import GlobalChem\n",
    "from global_chem_extensions import GlobalChemExtensions\n",
    "\n",
    "gc = GlobalChem()\n",
    "gce = GlobalChemExtensions()"
   ]
  },
  {
   "cell_type": "code",
   "execution_count": 4,
   "metadata": {
    "colab": {
     "base_uri": "https://localhost:8080/"
    },
    "id": "IMm6kQvpSIQr",
    "outputId": "ba25b01c-496e-4cec-b552-275ccbb42cf0"
   },
   "outputs": [
    {
     "name": "stdout",
     "output_type": "stream",
     "text": [
      "Percantage of Accepted SMILES: 100.0\n"
     ]
    }
   ],
   "source": [
    "# Check the Validity of the SMILES\n",
    "\n",
    "smiles_list = gc.get_all_smiles()\n",
    "\n",
    "sucesses, failures = gce.verify_smiles(\n",
    "    smiles_list,\n",
    "    rdkit=False, \n",
    "    partial_smiles=False,\n",
    "    return_failures=True,\n",
    "    pysmiles=False,\n",
    "    molvs=False,\n",
    "    deepsmiles=False,\n",
    "    selfies=True\n",
    ")\n",
    "\n",
    "total = len(sucesses) + len(failures)\n",
    "print (\"Percantage of Accepted SMILES: %s\" % ((len(sucesses) / total) * 100))"
   ]
  }
 ],
 "metadata": {
  "colab": {
   "name": "GlobalChemExtensions_Demonstration.ipynb",
   "provenance": []
  },
  "kernelspec": {
   "name": "python3",
   "display_name": "Python 3"
  },
  "language_info": {
   "name": "python"
  }
 },
 "nbformat": 4,
 "nbformat_minor": 0
}

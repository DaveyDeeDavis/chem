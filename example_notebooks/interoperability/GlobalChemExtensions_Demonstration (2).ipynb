{
 "cells": [
  {
   "cell_type": "code",
   "execution_count": 1,
   "metadata": {
    "id": "PY-f8bB8jpqi"
   },
   "outputs": [],
   "source": [
    "# Environment Setup\n",
    "\n",
    "!rm -rf global-chem\n",
    "!git clone -q https://github.com/Sulstice/global-chem\n",
    "\n",
    "!pip install -q global-chem-extensions --upgrade"
   ]
  },
  {
   "cell_type": "code",
   "execution_count": 2,
   "metadata": {
    "id": "NoYEtzDf1jYF"
   },
   "outputs": [],
   "source": [
    "# Header\n",
    "\n",
    "from global_chem import GlobalChem\n",
    "from global_chem_extensions import GlobalChemExtensions\n",
    "\n",
    "gc = GlobalChem()\n",
    "gce = GlobalChemExtensions()"
   ]
  },
  {
   "cell_type": "code",
   "execution_count": null,
   "metadata": {
    "colab": {
     "base_uri": "https://localhost:8080/"
    },
    "id": "Pi9wPCO5TEPm",
    "outputId": "c3c47907-4679-4abd-8356-0d4d3620461e"
   },
   "outputs": [
    {
     "name": "stdout",
     "output_type": "stream",
     "text": [
      "[('global_chem', {}), ('', {}), ('organic_synthesis', {}), ('solvents', {}), ('common_organic_solvents', {}), ('protecting_groups', {}), ('amino_acid_protecting_groups', {}), ('interstellar_space', {}), ('environment', {}), ('emerging_perfluoroalkyls', {}), ('miscellaneous', {}), ('amino_acids', {}), ('open_smiles', {}), ('vitamins', {}), ('regex_patterns', {}), ('materials', {}), ('clay', {}), ('montmorillonite_adsorption', {}), ('polymers', {}), ('common_monomer_repeating_units', {}), ('narcotics', {}), ('schedule_two', {}), ('pihkal', {}), ('schedule_one', {}), ('schedule_three', {}), ('schedule_four', {}), ('schedule_five', {}), ('medicinal_chemistry', {}), ('cannabinoids', {}), ('rings', {}), ('rings_in_drugs', {}), ('iupac_blue_book_rings', {}), ('phase_2_hetereocyclic_rings', {}), ('warheads', {}), ('electrophillic_warheads_for_kinases', {}), ('common_warheads_covalent_inhibitors', {}), ('scaffolds', {}), ('privileged_scaffolds', {}), ('common_r_group_replacements', {}), ('iupac_blue_book', {}), ('proteins', {}), ('kinases', {}), ('braf', {}), ('braf_inhibitors', {}), ('privileged_kinase_inhibitors', {})]\n"
     ]
    }
   ],
   "source": [
    "# Convert into Networkx\n",
    "\n",
    "gc.build_global_chem_network(print_output=False, debugger=False)\n",
    "network = gc.network\n",
    "networkx_graph = GlobalChemExtensions.convert_to_networkx(network)\n",
    "print (networkx_graph.nodes.data())"
   ]
  }
 ],
 "metadata": {
  "colab": {
   "name": "GlobalChemExtensions_Demonstration.ipynb",
   "provenance": []
  },
  "kernelspec": {
   "name": "python3",
   "display_name": "Python 3"
  },
  "language_info": {
   "name": "python"
  }
 },
 "nbformat": 4,
 "nbformat_minor": 0
}

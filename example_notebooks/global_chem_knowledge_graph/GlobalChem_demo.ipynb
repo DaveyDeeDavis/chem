{
 "cells": [
  {
   "cell_type": "code",
   "execution_count": 2,
   "metadata": {
    "id": "OJtzpSikIxPv"
   },
   "outputs": [],
   "source": [
    "# Header\n",
    "\n",
    "from global_chem import GlobalChem\n",
    "\n",
    "gc = GlobalChem()\n"
   ]
  },
  {
   "cell_type": "code",
   "execution_count": 3,
   "metadata": {
    "colab": {
     "base_uri": "https://localhost:8080/"
    },
    "id": "-KUZA-qzKwk0",
    "outputId": "cb62d4e8-e44c-4b43-add2-c8457e825a8c"
   },
   "outputs": [
    {
     "name": "stdout",
     "output_type": "stream",
     "text": [
      "                        ┌polymers─common_monomer_repeating_units\n",
      "             ┌materials─└clay─montmorillonite_adsorption\n",
      "             ├interstellar_space\n",
      "             ├environment─emerging_perfluoroalkyls\n",
      "             ├formulation─excipients─biopharmaceutics_class_three─cimetidine_acyclovir\n",
      "             │              ┌amino_acids\n",
      "             │              ├vitamins\n",
      "             ├miscellaneous─├regex_patterns\n",
      "             │              └open_smiles\n",
      "             │                            ┌privileged_kinase_inhibitors\n",
      "             │                            ├iupac_blue_book\n",
      "             ├proteins─kinases─┌scaffolds─├privileged_scaffolds\n",
      "             │                 │          └common_r_group_replacements\n",
      "             │                 └braf─braf_inhibitors\n",
      "global_chem──│          ┌pihkal\n",
      "             │          ├schedule_one\n",
      "             │          ├schedule_two\n",
      "             ├narcotics─├schedule_five\n",
      "             │          ├schedule_three\n",
      "             │          └schedule_four\n",
      "             │                  ┌solvents─common_organic_solvents\n",
      "             ├organic_synthesis─├protecting_groups─amino_acid_protecting_groups\n",
      "             │                  └bidendate_phosphine_ligands─nickel_ligands\n",
      "             │                              ┌electrophillic_warheads_for_kinases\n",
      "             │                    ┌warheads─└common_warheads_covalent_inhibitors\n",
      "             │                    ├cannabinoids\n",
      "             └medicinal_chemistry─│      ┌rings_in_drugs\n",
      "                                  └rings─├phase_2_hetereocyclic_rings\n",
      "                                         └iupac_blue_book_rings\n",
      "None\n"
     ]
    }
   ],
   "source": [
    "# Print the Network\n",
    "\n",
    "gc.print_globalchem_network()"
   ]
  },
  {
   "cell_type": "code",
   "execution_count": 4,
   "metadata": {
    "colab": {
     "base_uri": "https://localhost:8080/"
    },
    "id": "X_-kF0jGK6ok",
    "outputId": "d31fc4e9-d3c3-4463-f243-1714201138bc"
   },
   "outputs": [
    {
     "name": "stdout",
     "output_type": "stream",
     "text": [
      "['global_chem', 'emerging_perfluoroalkyls', 'montmorillonite_adsorption', 'common_monomer_repeating_units', 'electrophilic_warheads_for_kinases', 'common_warheads_covalent_inhibitors', 'rings_in_drugs', 'iupac_blue_book_rings', 'phase_2_hetereocyclic_rings', 'privileged_scaffolds', 'iupac_blue_book', 'common_r_group_replacements', 'braf_inhibitors', 'privileged_kinase_inhibitors', 'common_organic_solvents', 'amino_acid_protecting_groups', 'schedule_one', 'schedule_two', 'schedule_three', 'schedule_four', 'schedule_five', 'interstellar_space', 'vitamins', 'open_smiles', 'amino_acids', 'pihkal', 'nickel_ligands', 'cimetidine_and_acyclovir', 'common_regex_patterns']\n"
     ]
    }
   ],
   "source": [
    "# Check Node List\n",
    "\n",
    "nodes_list = gc.check_available_nodes()\n",
    "print (nodes_list)"
   ]
  },
  {
   "cell_type": "code",
   "execution_count": 5,
   "metadata": {
    "colab": {
     "base_uri": "https://localhost:8080/"
    },
    "id": "OhppEzLwK_Y_",
    "outputId": "66bfd239-4c88-4fc7-f53c-87d6d1905f8c"
   },
   "outputs": [
    {
     "name": "stdout",
     "output_type": "stream",
     "text": [
      "{'': {'children': ['medicinal_chemistry'],\n",
      "      'name': '',\n",
      "      'node_value': <global_chem.global_chem.Node object at 0x7f54adc46190>,\n",
      "      'parents': ['global_chem']},\n",
      " 'amino_acid_protecting_groups': {'children': [],\n",
      "                                  'name': 'amino_acid_protecting_groups',\n",
      "                                  'node_value': <global_chem.global_chem.Node object at 0x7f54b3e4b290>,\n",
      "                                  'parents': ['amino_acid_protecting_groups']},\n",
      " 'amino_acids': {'children': [],\n",
      "                 'name': 'amino_acids',\n",
      "                 'node_value': <global_chem.global_chem.Node object at 0x7f54adc35c90>,\n",
      "                 'parents': ['amino_acids']},\n",
      " 'bidendate_phosphine_ligands': {'children': ['nickel_ligands'],\n",
      "                                 'name': 'bidendate_phosphine_ligands',\n",
      "                                 'node_value': <global_chem.global_chem.Node object at 0x7f54add45190>,\n",
      "                                 'parents': ['organic_synthesis']},\n",
      " 'biopharmaceutics_class_three': {'children': ['cimetidine_acyclovir'],\n",
      "                                  'name': 'biopharmaceutics_class_three',\n",
      "                                  'node_value': <global_chem.global_chem.Node object at 0x7f54adc35f10>,\n",
      "                                  'parents': ['excipients']},\n",
      " 'braf': {'children': ['braf_inhibitors'],\n",
      "          'name': 'braf',\n",
      "          'node_value': <global_chem.global_chem.Node object at 0x7f54adc35290>,\n",
      "          'parents': ['kinases']},\n",
      " 'braf_inhibitors': {'children': [],\n",
      "                     'name': 'braf_inhibitors',\n",
      "                     'node_value': <global_chem.global_chem.Node object at 0x7f54adc46250>,\n",
      "                     'parents': ['braf_inhibitors']},\n",
      " 'cannabinoids': {'children': [],\n",
      "                  'name': 'cannabinoids',\n",
      "                  'node_value': <global_chem.global_chem.Node object at 0x7f54adc46350>,\n",
      "                  'parents': ['cannabinoids']},\n",
      " 'cimetidine_acyclovir': {'children': [],\n",
      "                          'name': 'cimetidine_acyclovir',\n",
      "                          'node_value': <global_chem.global_chem.Node object at 0x7f54adc35c10>,\n",
      "                          'parents': ['cimetidine_acyclovir']},\n",
      " 'clay': {'children': ['montmorillonite_adsorption'],\n",
      "          'name': 'clay',\n",
      "          'node_value': <global_chem.global_chem.Node object at 0x7f54adc36b90>,\n",
      "          'parents': ['materials']},\n",
      " 'common_monomer_repeating_units': {'children': [],\n",
      "                                    'name': 'common_monomer_repeating_units',\n",
      "                                    'node_value': <global_chem.global_chem.Node object at 0x7f54adc36110>,\n",
      "                                    'parents': ['common_monomer_repeating_units']},\n",
      " 'common_organic_solvents': {'children': [],\n",
      "                             'name': 'common_organic_solvents',\n",
      "                             'node_value': <global_chem.global_chem.Node object at 0x7f54add452d0>,\n",
      "                             'parents': ['common_organic_solvents']},\n",
      " 'common_r_group_replacements': {'children': [],\n",
      "                                 'name': 'common_r_group_replacements',\n",
      "                                 'node_value': <global_chem.global_chem.Node object at 0x7f54adcaf190>,\n",
      "                                 'parents': ['common_r_group_replacements']},\n",
      " 'common_warheads_covalent_inhibitors': {'children': [],\n",
      "                                         'name': 'common_warheads_covalent_inhibitors',\n",
      "                                         'node_value': <global_chem.global_chem.Node object at 0x7f54adc46690>,\n",
      "                                         'parents': ['common_warheads_covalent_inhibitors']},\n",
      " 'electrophillic_warheads_for_kinases': {'children': [],\n",
      "                                         'name': 'electrophillic_warheads_for_kinases',\n",
      "                                         'node_value': <global_chem.global_chem.Node object at 0x7f54adc46990>,\n",
      "                                         'parents': ['electrophillic_warheads_for_kinases']},\n",
      " 'emerging_perfluoroalkyls': {'children': [],\n",
      "                              'name': 'emerging_perfluoroalkyls',\n",
      "                              'node_value': <global_chem.global_chem.Node object at 0x7f54adc358d0>,\n",
      "                              'parents': ['emerging_perfluoroalkyls']},\n",
      " 'environment': {'children': ['emerging_perfluoroalkyls'],\n",
      "                 'name': 'environment',\n",
      "                 'node_value': <global_chem.global_chem.Node object at 0x7f54adcaf0d0>,\n",
      "                 'parents': ['']},\n",
      " 'excipients': {'children': ['biopharmaceutics_class_three'],\n",
      "                'name': 'excipients',\n",
      "                'node_value': <global_chem.global_chem.Node object at 0x7f54adc35e90>,\n",
      "                'parents': ['formulation']},\n",
      " 'formulation': {'children': ['excipients'],\n",
      "                 'name': 'formulation',\n",
      "                 'node_value': <global_chem.global_chem.Node object at 0x7f54adc35f90>,\n",
      "                 'parents': ['']},\n",
      " 'global_chem': {'children': [''],\n",
      "                 'name': 'global_chem',\n",
      "                 'node_value': <global_chem.global_chem.Node object at 0x7f54adc36f10>,\n",
      "                 'parents': []},\n",
      " 'interstellar_space': {'children': [],\n",
      "                        'name': 'interstellar_space',\n",
      "                        'node_value': <global_chem.global_chem.Node object at 0x7f54adc36a90>,\n",
      "                        'parents': ['interstellar_space']},\n",
      " 'iupac_blue_book': {'children': [],\n",
      "                     'name': 'iupac_blue_book',\n",
      "                     'node_value': <global_chem.global_chem.Node object at 0x7f54adcaf510>,\n",
      "                     'parents': ['iupac_blue_book']},\n",
      " 'iupac_blue_book_rings': {'children': [],\n",
      "                           'name': 'iupac_blue_book_rings',\n",
      "                           'node_value': <global_chem.global_chem.Node object at 0x7f54adc46050>,\n",
      "                           'parents': ['iupac_blue_book_rings']},\n",
      " 'kinases': {'children': ['braf'],\n",
      "             'name': 'kinases',\n",
      "             'node_value': <global_chem.global_chem.Node object at 0x7f54adc353d0>,\n",
      "             'parents': ['proteins']},\n",
      " 'materials': {'children': ['clay'],\n",
      "               'name': 'materials',\n",
      "               'node_value': <global_chem.global_chem.Node object at 0x7f54adcafe10>,\n",
      "               'parents': ['']},\n",
      " 'medicinal_chemistry': {'children': ['rings'],\n",
      "                         'name': 'medicinal_chemistry',\n",
      "                         'node_value': <global_chem.global_chem.Node object at 0x7f54adc46590>,\n",
      "                         'parents': ['']},\n",
      " 'miscellaneous': {'children': ['open_smiles'],\n",
      "                   'name': 'miscellaneous',\n",
      "                   'node_value': <global_chem.global_chem.Node object at 0x7f54adc35790>,\n",
      "                   'parents': ['']},\n",
      " 'montmorillonite_adsorption': {'children': [],\n",
      "                                'name': 'montmorillonite_adsorption',\n",
      "                                'node_value': <global_chem.global_chem.Node object at 0x7f54adc36ed0>,\n",
      "                                'parents': ['montmorillonite_adsorption']},\n",
      " 'narcotics': {'children': ['schedule_four'],\n",
      "               'name': 'narcotics',\n",
      "               'node_value': <global_chem.global_chem.Node object at 0x7f54afdde5d0>,\n",
      "               'parents': ['']},\n",
      " 'nickel_ligands': {'children': [],\n",
      "                    'name': 'nickel_ligands',\n",
      "                    'node_value': <global_chem.global_chem.Node object at 0x7f54c53314d0>,\n",
      "                    'parents': ['nickel_ligands']},\n",
      " 'open_smiles': {'children': [],\n",
      "                 'name': 'open_smiles',\n",
      "                 'node_value': <global_chem.global_chem.Node object at 0x7f54adc35690>,\n",
      "                 'parents': ['open_smiles']},\n",
      " 'organic_synthesis': {'children': ['bidendate_phosphine_ligands'],\n",
      "                       'name': 'organic_synthesis',\n",
      "                       'node_value': <global_chem.global_chem.Node object at 0x7f54add45050>,\n",
      "                       'parents': ['']},\n",
      " 'phase_2_hetereocyclic_rings': {'children': [],\n",
      "                                 'name': 'phase_2_hetereocyclic_rings',\n",
      "                                 'node_value': <global_chem.global_chem.Node object at 0x7f54adc460d0>,\n",
      "                                 'parents': ['phase_2_hetereocyclic_rings']},\n",
      " 'pihkal': {'children': [],\n",
      "            'name': 'pihkal',\n",
      "            'node_value': <global_chem.global_chem.Node object at 0x7f54adc46810>,\n",
      "            'parents': ['pihkal']},\n",
      " 'polymers': {'children': ['common_monomer_repeating_units'],\n",
      "              'name': 'polymers',\n",
      "              'node_value': <global_chem.global_chem.Node object at 0x7f54adc36550>,\n",
      "              'parents': ['materials']},\n",
      " 'privileged_kinase_inhibitors': {'children': [],\n",
      "                                  'name': 'privileged_kinase_inhibitors',\n",
      "                                  'node_value': <global_chem.global_chem.Node object at 0x7f54adc351d0>,\n",
      "                                  'parents': ['privileged_kinase_inhibitors']},\n",
      " 'privileged_scaffolds': {'children': [],\n",
      "                          'name': 'privileged_scaffolds',\n",
      "                          'node_value': <global_chem.global_chem.Node object at 0x7f54adcaf050>,\n",
      "                          'parents': ['privileged_scaffolds']},\n",
      " 'protecting_groups': {'children': ['amino_acid_protecting_groups'],\n",
      "                       'name': 'protecting_groups',\n",
      "                       'node_value': <global_chem.global_chem.Node object at 0x7f54add45250>,\n",
      "                       'parents': ['organic_synthesis']},\n",
      " 'proteins': {'children': ['kinases'],\n",
      "              'name': 'proteins',\n",
      "              'node_value': <global_chem.global_chem.Node object at 0x7f54adc35810>,\n",
      "              'parents': ['']},\n",
      " 'regex_patterns': {'children': [],\n",
      "                    'name': 'regex_patterns',\n",
      "                    'node_value': <global_chem.global_chem.Node object at 0x7f54adc356d0>,\n",
      "                    'parents': ['regex_patterns']},\n",
      " 'rings': {'children': ['iupac_blue_book_rings'],\n",
      "           'name': 'rings',\n",
      "           'node_value': <global_chem.global_chem.Node object at 0x7f54adc46750>,\n",
      "           'parents': ['medicinal_chemistry']},\n",
      " 'rings_in_drugs': {'children': [],\n",
      "                    'name': 'rings_in_drugs',\n",
      "                    'node_value': <global_chem.global_chem.Node object at 0x7f54adc46410>,\n",
      "                    'parents': ['rings_in_drugs']},\n",
      " 'scaffolds': {'children': ['common_r_group_replacements'],\n",
      "               'name': 'scaffolds',\n",
      "               'node_value': <global_chem.global_chem.Node object at 0x7f54b3a3fb10>,\n",
      "               'parents': ['medicinal_chemistry']},\n",
      " 'schedule_five': {'children': [],\n",
      "                   'name': 'schedule_five',\n",
      "                   'node_value': <global_chem.global_chem.Node object at 0x7f54adc462d0>,\n",
      "                   'parents': ['schedule_five']},\n",
      " 'schedule_four': {'children': [],\n",
      "                   'name': 'schedule_four',\n",
      "                   'node_value': <global_chem.global_chem.Node object at 0x7f54add45510>,\n",
      "                   'parents': ['schedule_four']},\n",
      " 'schedule_one': {'children': [],\n",
      "                  'name': 'schedule_one',\n",
      "                  'node_value': <global_chem.global_chem.Node object at 0x7f54adc46850>,\n",
      "                  'parents': ['schedule_one']},\n",
      " 'schedule_three': {'children': [],\n",
      "                    'name': 'schedule_three',\n",
      "                    'node_value': <global_chem.global_chem.Node object at 0x7f54b4069310>,\n",
      "                    'parents': ['schedule_three']},\n",
      " 'schedule_two': {'children': [],\n",
      "                  'name': 'schedule_two',\n",
      "                  'node_value': <global_chem.global_chem.Node object at 0x7f54adc46b50>,\n",
      "                  'parents': ['schedule_two']},\n",
      " 'solvents': {'children': ['common_organic_solvents'],\n",
      "              'name': 'solvents',\n",
      "              'node_value': <global_chem.global_chem.Node object at 0x7f54add450d0>,\n",
      "              'parents': ['organic_synthesis']},\n",
      " 'vitamins': {'children': [],\n",
      "              'name': 'vitamins',\n",
      "              'node_value': <global_chem.global_chem.Node object at 0x7f54adc35950>,\n",
      "              'parents': ['vitamins']},\n",
      " 'warheads': {'children': ['common_warheads_covalent_inhibitors'],\n",
      "              'name': 'warheads',\n",
      "              'node_value': <global_chem.global_chem.Node object at 0x7f54afddef90>,\n",
      "              'parents': ['medicinal_chemistry']}}\n"
     ]
    }
   ],
   "source": [
    "# Build the Network\n",
    "\n",
    "gc.build_global_chem_network(\n",
    "    print_output=True,          # Print the network out\n",
    "    debugger=False,             # For Developers mostly to see all node values\n",
    ")"
   ]
  },
  {
   "cell_type": "code",
   "execution_count": 6,
   "metadata": {
    "colab": {
     "base_uri": "https://localhost:8080/"
    },
    "id": "v2xRN8_ZLDWc",
    "outputId": "38c486e4-ef9c-4382-a918-752897ea1066"
   },
   "outputs": [
    {
     "name": "stdout",
     "output_type": "stream",
     "text": [
      "{'node_value': <global_chem.global_chem.Node object at 0x7f54adc654d0>, 'children': [], 'parents': ['emerging_perfluoroalkyls'], 'name': 'emerging_perfluoroalkyls'}\n"
     ]
    }
   ],
   "source": [
    "# Fetch a Node\n",
    "\n",
    "gc = GlobalChem()\n",
    "gc.build_global_chem_network()\n",
    "node = gc.get_node('emerging_perfluoroalkyls')\n",
    "print (node)"
   ]
  },
  {
   "cell_type": "code",
   "execution_count": 7,
   "metadata": {
    "colab": {
     "base_uri": "https://localhost:8080/"
    },
    "id": "gy0uBchbLIx6",
    "outputId": "8fa5d292-3b08-42ed-aab1-fd2a71ec7ccd"
   },
   "outputs": [
    {
     "name": "stdout",
     "output_type": "stream",
     "text": [
      "Length of Perfluoroalkyls: 27 \n"
     ]
    }
   ],
   "source": [
    "# Fetch The IUPAC/SMILES/SMARTS\n",
    "\n",
    "gc = GlobalChem()\n",
    "gc.build_global_chem_network()\n",
    "smiles = gc.get_node_smiles('emerging_perfluoroalkyls')\n",
    "smarts = gc.get_node_smarts('emerging_perfluoroalkyls')\n",
    "\n",
    "print (\"Length of Perfluoroalkyls: %s \" % len(smiles))"
   ]
  },
  {
   "cell_type": "code",
   "execution_count": 17,
   "metadata": {
    "colab": {
     "base_uri": "https://localhost:8080/"
    },
    "id": "tLJ_rIYcLNKR",
    "outputId": "531b2916-ea2a-4bf6-e66f-1b644ec56714"
   },
   "outputs": [
    {
     "name": "stdout",
     "output_type": "stream",
     "text": [
      "2357\n",
      "2285\n",
      "2357\n"
     ]
    }
   ],
   "source": [
    "# Fetch All the Data\n",
    "\n",
    "gc = GlobalChem()\n",
    "print(len(gc.get_all_smiles()))\n",
    "print(len(gc.get_all_smarts()))\n",
    "print(len(gc.get_all_names()))\n"
   ]
  },
  {
   "cell_type": "code",
   "execution_count": 9,
   "metadata": {
    "colab": {
     "base_uri": "https://localhost:8080/"
    },
    "id": "qYlc37ngLSZL",
    "outputId": "bef75d1e-7af8-4b9d-9007-f24326f91026"
   },
   "outputs": [
    {
     "name": "stdout",
     "output_type": "stream",
     "text": [
      "['global_chem', '', 'materials', 'polymers', 'common_monomer_repeating_units', 'clay', 'montmorillonite_adsorption', 'interstellar_space', 'environment', 'formulation', 'excipients', 'biopharmaceutics_class_three', 'cimetidine_acyclovir', 'miscellaneous', 'amino_acids', 'vitamins', 'regex_patterns', 'open_smiles', 'proteins', 'kinases', 'scaffolds', 'privileged_kinase_inhibitors', 'braf', 'braf_inhibitors', 'narcotics', 'pihkal', 'schedule_one', 'schedule_two', 'schedule_five', 'schedule_three', 'schedule_four', 'organic_synthesis', 'solvents', 'common_organic_solvents', 'protecting_groups', 'amino_acid_protecting_groups', 'bidendate_phosphine_ligands', 'nickel_ligands', 'medicinal_chemistry', 'iupac_blue_book', 'privileged_scaffolds', 'common_r_group_replacements', 'warheads', 'electrophillic_warheads_for_kinases', 'common_warheads_covalent_inhibitors', 'cannabinoids', 'rings', 'rings_in_drugs', 'phase_2_hetereocyclic_rings', 'iupac_blue_book_rings']\n"
     ]
    }
   ],
   "source": [
    "# Remove a Node from the Network\n",
    "\n",
    "gc = GlobalChem()\n",
    "gc.build_global_chem_network(print_output=False, debugger=False)\n",
    "gc.remove_node('emerging_perfluoroalkyls')\n",
    "print (list(gc.network.keys()))"
   ]
  },
  {
   "cell_type": "code",
   "execution_count": 10,
   "metadata": {
    "colab": {
     "base_uri": "https://localhost:8080/"
    },
    "id": "69p7fQ1lLXuq",
    "outputId": "053502f0-7acd-4c92-c25a-4f3f830d2899"
   },
   "outputs": [
    {
     "name": "stdout",
     "output_type": "stream",
     "text": [
      "{'C1=CC=CC=C1': True}\n"
     ]
    }
   ],
   "source": [
    "# Fetch a SMILES by IUPAC\n",
    "\n",
    "gc = GlobalChem()\n",
    "definition = gc.get_smiles_by_iupac(\n",
    "    'benzene',                          \n",
    "    return_network_path=False,          # Return the last found network path\n",
    "    return_all_network_paths=True,      # Return all the found network paths \n",
    ")\n",
    "print (definition)"
   ]
  },
  {
   "cell_type": "code",
   "execution_count": 11,
   "metadata": {
    "colab": {
     "base_uri": "https://localhost:8080/"
    },
    "id": "HypwxwzlLbCa",
    "outputId": "24c2ca1c-03e2-414a-9f00-0f9a7b3f90bd"
   },
   "outputs": [
    {
     "name": "stdout",
     "output_type": "stream",
     "text": [
      "{'': {'children': ['medicinal_chemistry'],\n",
      "      'name': '',\n",
      "      'node_value': <global_chem.global_chem.Node object at 0x7f54adc65b10>,\n",
      "      'parents': ['global_chem']},\n",
      " 'amino_acid_protecting_groups': {'children': [],\n",
      "                                  'name': 'amino_acid_protecting_groups',\n",
      "                                  'node_value': <global_chem.global_chem.Node object at 0x7f54adc361d0>,\n",
      "                                  'parents': ['amino_acid_protecting_groups']},\n",
      " 'amino_acids': {'children': [],\n",
      "                 'name': 'amino_acids',\n",
      "                 'node_value': <global_chem.global_chem.Node object at 0x7f54adc651d0>,\n",
      "                 'parents': ['amino_acids']},\n",
      " 'bidendate_phosphine_ligands': {'children': ['nickel_ligands'],\n",
      "                                 'name': 'bidendate_phosphine_ligands',\n",
      "                                 'node_value': <global_chem.global_chem.Node object at 0x7f54b2365c90>,\n",
      "                                 'parents': ['organic_synthesis']},\n",
      " 'biopharmaceutics_class_three': {'children': ['cimetidine_acyclovir'],\n",
      "                                  'name': 'biopharmaceutics_class_three',\n",
      "                                  'node_value': <global_chem.global_chem.Node object at 0x7f54adc65590>,\n",
      "                                  'parents': ['excipients']},\n",
      " 'braf': {'children': ['braf_inhibitors'],\n",
      "          'name': 'braf',\n",
      "          'node_value': <global_chem.global_chem.Node object at 0x7f54adc65e50>,\n",
      "          'parents': ['kinases']},\n",
      " 'braf_inhibitors': {'children': [],\n",
      "                     'name': 'braf_inhibitors',\n",
      "                     'node_value': <global_chem.global_chem.Node object at 0x7f54adcaf6d0>,\n",
      "                     'parents': ['braf_inhibitors']},\n",
      " 'cannabinoids': {'children': [],\n",
      "                  'name': 'cannabinoids',\n",
      "                  'node_value': <global_chem.global_chem.Node object at 0x7f54b4069910>,\n",
      "                  'parents': ['cannabinoids']},\n",
      " 'cimetidine_acyclovir': {'children': [],\n",
      "                          'name': 'cimetidine_acyclovir',\n",
      "                          'node_value': <global_chem.global_chem.Node object at 0x7f54adc65290>,\n",
      "                          'parents': ['cimetidine_acyclovir']},\n",
      " 'clay': {'children': ['montmorillonite_adsorption'],\n",
      "          'name': 'clay',\n",
      "          'node_value': <global_chem.global_chem.Node object at 0x7f54adc5d7d0>,\n",
      "          'parents': ['materials']},\n",
      " 'common_monomer_repeating_units': {'children': [],\n",
      "                                    'name': 'common_monomer_repeating_units',\n",
      "                                    'node_value': <global_chem.global_chem.Node object at 0x7f54adc5d210>,\n",
      "                                    'parents': ['common_monomer_repeating_units']},\n",
      " 'common_organic_solvents': {'children': [],\n",
      "                             'name': 'common_organic_solvents',\n",
      "                             'node_value': <global_chem.global_chem.Node object at 0x7f54adc36b90>,\n",
      "                             'parents': ['common_organic_solvents']},\n",
      " 'common_r_group_replacements': {'children': [],\n",
      "                                 'name': 'common_r_group_replacements',\n",
      "                                 'node_value': <global_chem.global_chem.Node object at 0x7f54adcaf110>,\n",
      "                                 'parents': ['common_r_group_replacements']},\n",
      " 'common_warheads_covalent_inhibitors': {'children': [],\n",
      "                                         'name': 'common_warheads_covalent_inhibitors',\n",
      "                                         'node_value': <global_chem.global_chem.Node object at 0x7f54adcafd90>,\n",
      "                                         'parents': ['common_warheads_covalent_inhibitors']},\n",
      " 'electrophillic_warheads_for_kinases': {'children': [],\n",
      "                                         'name': 'electrophillic_warheads_for_kinases',\n",
      "                                         'node_value': <global_chem.global_chem.Node object at 0x7f54adcaf610>,\n",
      "                                         'parents': ['electrophillic_warheads_for_kinases']},\n",
      " 'emerging_perfluoroalkyls': {'children': [],\n",
      "                              'name': 'emerging_perfluoroalkyls',\n",
      "                              'node_value': <global_chem.global_chem.Node object at 0x7f54adc35b10>,\n",
      "                              'parents': ['emerging_perfluoroalkyls']},\n",
      " 'environment': {'children': ['emerging_perfluoroalkyls'],\n",
      "                 'name': 'environment',\n",
      "                 'node_value': <global_chem.global_chem.Node object at 0x7f54adc40c50>,\n",
      "                 'parents': ['']},\n",
      " 'excipients': {'children': ['biopharmaceutics_class_three'],\n",
      "                'name': 'excipients',\n",
      "                'node_value': <global_chem.global_chem.Node object at 0x7f54adc35d10>,\n",
      "                'parents': ['formulation']},\n",
      " 'formulation': {'children': ['excipients'],\n",
      "                 'name': 'formulation',\n",
      "                 'node_value': <global_chem.global_chem.Node object at 0x7f54adc356d0>,\n",
      "                 'parents': ['']},\n",
      " 'global_chem': {'children': [''],\n",
      "                 'name': 'global_chem',\n",
      "                 'node_value': <global_chem.global_chem.Node object at 0x7f54adc5de90>,\n",
      "                 'parents': []},\n",
      " 'interstellar_space': {'children': [],\n",
      "                        'name': 'interstellar_space',\n",
      "                        'node_value': <global_chem.global_chem.Node object at 0x7f54adc35590>,\n",
      "                        'parents': ['interstellar_space']},\n",
      " 'iupac_blue_book': {'children': [],\n",
      "                     'name': 'iupac_blue_book',\n",
      "                     'node_value': <global_chem.global_chem.Node object at 0x7f54adcaff50>,\n",
      "                     'parents': ['iupac_blue_book']},\n",
      " 'iupac_blue_book_rings': {'children': [],\n",
      "                           'name': 'iupac_blue_book_rings',\n",
      "                           'node_value': <global_chem.global_chem.Node object at 0x7f54adc95e90>,\n",
      "                           'parents': ['iupac_blue_book_rings']},\n",
      " 'kinases': {'children': ['braf'],\n",
      "             'name': 'kinases',\n",
      "             'node_value': <global_chem.global_chem.Node object at 0x7f54adc65850>,\n",
      "             'parents': ['proteins']},\n",
      " 'materials': {'children': ['clay'],\n",
      "               'name': 'materials',\n",
      "               'node_value': <global_chem.global_chem.Node object at 0x7f54adc36f10>,\n",
      "               'parents': ['']},\n",
      " 'medicinal_chemistry': {'children': ['rings'],\n",
      "                         'name': 'medicinal_chemistry',\n",
      "                         'node_value': <global_chem.global_chem.Node object at 0x7f54adc36550>,\n",
      "                         'parents': ['']},\n",
      " 'miscellaneous': {'children': ['open_smiles'],\n",
      "                   'name': 'miscellaneous',\n",
      "                   'node_value': <global_chem.global_chem.Node object at 0x7f54adc35990>,\n",
      "                   'parents': ['']},\n",
      " 'montmorillonite_adsorption': {'children': [],\n",
      "                                'name': 'montmorillonite_adsorption',\n",
      "                                'node_value': <global_chem.global_chem.Node object at 0x7f54adc35a10>,\n",
      "                                'parents': ['montmorillonite_adsorption']},\n",
      " 'narcotics': {'children': ['schedule_four'],\n",
      "               'name': 'narcotics',\n",
      "               'node_value': <global_chem.global_chem.Node object at 0x7f54adc5d4d0>,\n",
      "               'parents': ['']},\n",
      " 'nickel_ligands': {'children': [],\n",
      "                    'name': 'nickel_ligands',\n",
      "                    'node_value': <global_chem.global_chem.Node object at 0x7f54adc36ad0>,\n",
      "                    'parents': ['nickel_ligands']},\n",
      " 'open_smiles': {'children': [],\n",
      "                 'name': 'open_smiles',\n",
      "                 'node_value': <global_chem.global_chem.Node object at 0x7f54adc657d0>,\n",
      "                 'parents': ['open_smiles']},\n",
      " 'organic_synthesis': {'children': ['bidendate_phosphine_ligands'],\n",
      "                       'name': 'organic_synthesis',\n",
      "                       'node_value': <global_chem.global_chem.Node object at 0x7f54adc36a10>,\n",
      "                       'parents': ['']},\n",
      " 'phase_2_hetereocyclic_rings': {'children': [],\n",
      "                                 'name': 'phase_2_hetereocyclic_rings',\n",
      "                                 'node_value': <global_chem.global_chem.Node object at 0x7f54adc95e50>,\n",
      "                                 'parents': ['phase_2_hetereocyclic_rings']},\n",
      " 'pihkal': {'children': [],\n",
      "            'name': 'pihkal',\n",
      "            'node_value': <global_chem.global_chem.Node object at 0x7f54b3e4ba50>,\n",
      "            'parents': ['pihkal']},\n",
      " 'polymers': {'children': ['common_monomer_repeating_units'],\n",
      "              'name': 'polymers',\n",
      "              'node_value': <global_chem.global_chem.Node object at 0x7f54adc5d990>,\n",
      "              'parents': ['materials']},\n",
      " 'privileged_kinase_inhibitors': {'children': [],\n",
      "                                  'name': 'privileged_kinase_inhibitors',\n",
      "                                  'node_value': <global_chem.global_chem.Node object at 0x7f54adc65210>,\n",
      "                                  'parents': ['privileged_kinase_inhibitors']},\n",
      " 'privileged_scaffolds': {'children': [],\n",
      "                          'name': 'privileged_scaffolds',\n",
      "                          'node_value': <global_chem.global_chem.Node object at 0x7f54adcaf3d0>,\n",
      "                          'parents': ['privileged_scaffolds']},\n",
      " 'protecting_groups': {'children': ['amino_acid_protecting_groups'],\n",
      "                       'name': 'protecting_groups',\n",
      "                       'node_value': <global_chem.global_chem.Node object at 0x7f54adc36850>,\n",
      "                       'parents': ['organic_synthesis']},\n",
      " 'proteins': {'children': ['kinases'],\n",
      "              'name': 'proteins',\n",
      "              'node_value': <global_chem.global_chem.Node object at 0x7f54adc652d0>,\n",
      "              'parents': ['']},\n",
      " 'regex_patterns': {'children': [],\n",
      "                    'name': 'regex_patterns',\n",
      "                    'node_value': <global_chem.global_chem.Node object at 0x7f54adc65cd0>,\n",
      "                    'parents': ['regex_patterns']},\n",
      " 'rings': {'children': ['iupac_blue_book_rings'],\n",
      "           'name': 'rings',\n",
      "           'node_value': <global_chem.global_chem.Node object at 0x7f54adc8ae90>,\n",
      "           'parents': ['medicinal_chemistry']},\n",
      " 'rings_in_drugs': {'children': [],\n",
      "                    'name': 'rings_in_drugs',\n",
      "                    'node_value': <global_chem.global_chem.Node object at 0x7f54adc65d50>,\n",
      "                    'parents': ['rings_in_drugs']},\n",
      " 'scaffolds': {'children': ['common_r_group_replacements'],\n",
      "               'name': 'scaffolds',\n",
      "               'node_value': <global_chem.global_chem.Node object at 0x7f54adc36e50>,\n",
      "               'parents': ['medicinal_chemistry']},\n",
      " 'schedule_five': {'children': [],\n",
      "                   'name': 'schedule_five',\n",
      "                   'node_value': <global_chem.global_chem.Node object at 0x7f54b3f18e90>,\n",
      "                   'parents': ['schedule_five']},\n",
      " 'schedule_four': {'children': [],\n",
      "                   'name': 'schedule_four',\n",
      "                   'node_value': <global_chem.global_chem.Node object at 0x7f54b620bb50>,\n",
      "                   'parents': ['schedule_four']},\n",
      " 'schedule_one': {'children': [],\n",
      "                  'name': 'schedule_one',\n",
      "                  'node_value': <global_chem.global_chem.Node object at 0x7f54afddea50>,\n",
      "                  'parents': ['schedule_one']},\n",
      " 'schedule_three': {'children': [],\n",
      "                    'name': 'schedule_three',\n",
      "                    'node_value': <global_chem.global_chem.Node object at 0x7f54b3f28290>,\n",
      "                    'parents': ['schedule_three']},\n",
      " 'schedule_two': {'children': [],\n",
      "                  'name': 'schedule_two',\n",
      "                  'node_value': <global_chem.global_chem.Node object at 0x7f54afdde7d0>,\n",
      "                  'parents': ['schedule_two']},\n",
      " 'solvents': {'children': ['common_organic_solvents'],\n",
      "              'name': 'solvents',\n",
      "              'node_value': <global_chem.global_chem.Node object at 0x7f54adc36290>,\n",
      "              'parents': ['organic_synthesis']},\n",
      " 'vitamins': {'children': [],\n",
      "              'name': 'vitamins',\n",
      "              'node_value': <global_chem.global_chem.Node object at 0x7f54adc65b50>,\n",
      "              'parents': ['vitamins']},\n",
      " 'warheads': {'children': ['common_warheads_covalent_inhibitors'],\n",
      "              'name': 'warheads',\n",
      "              'node_value': <global_chem.global_chem.Node object at 0x7f54adcafb10>,\n",
      "              'parents': ['medicinal_chemistry']}}\n",
      "{'some_data': ['bunny']}\n"
     ]
    }
   ],
   "source": [
    "# Set and Get a Node in the Network\n",
    "\n",
    "gc = GlobalChem()\n",
    "gc.build_global_chem_network(print_output=True, debugger=False)\n",
    "gc.set_node_value('emerging_perfluoroalkyls', {'some_data': ['bunny']})\n",
    "print (gc.get_node_value('emerging_perfluoroalkyls'))"
   ]
  },
  {
   "cell_type": "code",
   "execution_count": 12,
   "metadata": {
    "colab": {
     "base_uri": "https://localhost:8080/"
    },
    "id": "0oUFHA6qLeXz",
    "outputId": "2f6b70ac-3ad1-45ed-ed17-22cc4fccc44e"
   },
   "outputs": [
    {
     "name": "stdout",
     "output_type": "stream",
     "text": [
      "{'3′-bromo-2-chloro[1,1′:4′,1′′-terphenyl]-4,4′′': 'ClC1=CC=CC=C1C2=CC=C(C3=CC=CC=C3)C(Br)=C2', '[3,3′-biquinoline]-6,6′': 'C1(C2=CC3=CC=CC=C3N=C2)=CC4=CC=CC=C4N=C1', '[2,3′-bipyridine]-4,5′': 'C1(C2=CC=CN=C2)=NC=CC=C1', '(Z)-but-1-enel': 'C=CCC', 'ethene-1,2-diyl': 'C=C', 'propane-1,3-diyl': 'CCC', 'methylmethylene': '[CH]C', '1-phenylethylene': 'C=CC1=CC=CC=C1', '1,2-dioxobutane': 'CCC(C=O)=O', '1,3-dioxohexane': 'CCCC(CC=O)=O', 'oxyoxalyl': 'O=CC(O)=O', 'oxysuccinyl': 'O=CCCC(O)=O', 'naphthalene': 'C12=CC=CC=C1C=CC=C2', '2H-furo[3,2-b]pyran': 'C12=CCOC1=CC=CO2', 'pyridine': 'C1=NC=CC=C1', '1-carboxylatoethylene': 'NC1(C(O)=O)CC1', 'x-iminocyclopentane': 'N=C1CCCC1', 'pyridine-3,5-diylpiperidine': 'N1(C2=CC3=CN=C2)C3CCCC1', '(4-chloro[3,3′-bipyridine])methylene': '[CH]C1=NC=CC(Cl)=C1C2=CC=CN=C2', 'imino[1-oxo-2-(phenylsulfanyl)ethylene]': 'O=C=C(N)SC1=CC=CC=C1', 'methylphenylsiloxane': '[H]O[SiH](C)C1=CC=CC=C1', 'diethoxyphosphazene': 'CCO[PH2](N)OCC', 'piperidine-3,5-diylideneethanediylidene': 'C/C=C1CNCCC1', 'sulfanediylcarbonyl': 'O=[CH]S', 'spiro[4.5]decane-2,8-diylmethylene': 'C1(CC(CC2)CC3)CC32CC1', '4H-1,2,4-triazole-3,5-diylmethylene': 'C1(C2)=NN=C2N1', '(2-phenyl-1,3-phenylene)ethylene': 'C1(C=C2)=CC=CC2=C1C3=CC=CC=C3', '(5′-chloro[1,2′-binaphthalene])methylene': 'CC1=CC=C2C=CC=CC2=C1C3=CC=C4C(Cl)=CC=CC4=C3', '(6-chlorocyclohex-1-ene)(1-bromoethylene)': 'ClC1C=CC(C(Br)C)CC1', 'oxy{[3-(trifluoromethyl)phenyl]methylene}': 'FC(C1=CC([CH]O)=CC=C1)(F)F', '1,3-phenyleneethylene': 'C1(C=C2)=CC=CC2=C1', '(tetramethoxy-1,4-phenylene)(1,2-diphenylethene)': 'COC(C(OC)=CC(OC)=C1OC)=C1/C(C2=CC=CC=C2)=C/C3=CC=CC=C3', '(1,1′,3,3′-tetraoxo[5,5′-biisoindoline]-2,2′-diyl)biphenyl': 'O=C(C1=C2C=CC(C3=CC=C4C(OCN(C5=CC=C(C6=CC=CC=C6)C=C5)CO4)=C3)=C1)NC2=O', 'morpholine-2,6-diylpyridine-3,5-diylthianthrene': 'C(C=C1S2)(C3=CN=CC(C4CNCCO4)=C3)=CC=C1SC5=C2C=CC=C5', 'naphthalene-1,4-phenylenecyclohexane': 'C12=CC=CC=C1C=C(C3=CC=CC(C4CCCCC4)=C3)C=C2', 'pyridine-1,4-phenylenecyclopentane': 'C1(C2=CC=CC(C3CCCC3)=C2)=CC=CN=C1', 'pyridine-4H-1,2,4-triazole-3,5-diylmethylene': 'CC(N1)=NN=C1C2=NC=CC=C2', 'oxyspiro[3.5]nona-2,5-diene-7,1-diylcyclohex-4-ene-1,3-diyl': 'OC1C=CC2(CCC2C3CC=CCC3)CC1', 'piperidine-oxymethylene': 'COC1NCCCC1', 'pyridine-methyleneoxy-1,4-phenylene': 'C1(OCC2=NC=CC=C2)=CC=CC=C1', 'imino(1-chloro-2-oxoethylene)(4-nitro-1,3-phenylene)(3-bromopropane)': 'NC(C(C1=CC=C([N+]([O-])=O)C(CCBr)=C1)=O)Cl', 'pyridine-acenaphthylene-3,8-diylpyrrole-diylacenaphthylene': 'C1(C2=C(C=C3)C(C3=C(C4=CNC=C4C5=C(C=C6)C(C6=CC=C7)=C7C=C5)C=C8)=C8C=C2)=CC=CN=C1', 'pyridine-(phenylmethylene)iminocyclohexane': 'C1(C(NC2CCCCC2)C3=CC=CC=C3)=CC=CC=N1', '(methylimino)methyleneimino-1,3-phenylene': 'CNCNC1=CC=CC=C1', 'pyridine-diyliminocyclohexane(phenylmethylene)': 'C1(NC2CCC(CC3=CC=CC=C3)CC2)=CC=CC=N1', 'imino(1-oxoethylene)silanediylpropane': 'NC(C[Si](C)(C)C)=O', 'pyridine-cyclohexane-oxypropane': 'CCCOC(CCC1)CC1C2=CC=CN=C2', 'sulfaneethylenesulfanediyl(2-amino-4-carboxypentane)': 'SCCSC(N)CC(C)C(O)=O', 'sulfaneethylenesulfanediyl(4-amino-1-carboxypentane)': 'SCCSC(C(O)=O)CC(N)C', 'pyridine-methylenepyridine(tetrahydropyran)': 'C1(CC2=CN=CC(C3COCCC3)=C2)=CC=CN=C1', 'sulfane(2-chloropropane)sulfanepropane': 'SCC(CSCCC)Cl', 'pyridine-carbonyloxymethylene': 'O=C(OC)C1=CC=CN=C1', '1,3-phenylene(1-bromoethylene)cyclohexane(2-butylethylene)': 'BrC(C1CCCC(C(CCC)C)C1)C2=CC=CC=C2', 'oxy(1,1-dichloroethylene)imino(1-oxoethylene)': 'OC(Cl)(CNCOC)Cl', 'sulfane(1-chloroethylene)-1,3-phenylene(1-chloroethylene)': 'SC(CC1=CC(C(C)Cl)=CC=C1)Cl', 'sulfane(1-iodoethylene)sulfane(5-bromo-3-chloropentane)': 'SC(CSCCC(CCBr)Cl)I', 'oxymethylene-ONN-azoxy(chloromethylene)': 'OCN(O)-NCCl', '(3-chlorobiphenyl)methylene(3-chloro-1,4-phenylene)methylene': 'ClC1=CC(C2=CC=C(C3=CC=C(C)C(Cl)=C3)C=C2)=CC=C1', 'imino(x-methyl-1,3-phenylene)iminomalonyl': 'NC1=CC(C)=CC(NC(CC=O)=O)=C1', 'oxyhexane-oxycarbonylimino(methylphenylene)iminocarbonyl': 'OCCCCCCOC(NC1=CC(C)=C(NC=O)C=C1)=O', '2,4,8,10-tetraoxaspiro[5.5]undecane-oxyhexane-1,6-diyloxy': 'CC1OCC2(COC(OCCCCCCO)OC2)CO1', 'pyridine-methylenepyrrole-oxymethylene': 'COC1=CNC=C1CC2=CC=CN=C2', 'oxymethyleneiminocarbonylsulfane-1,3-phenyleneethylene': 'COCNC(SC1=CC=CC(CC)=C1)=O', 'oxyiminomethylenehydrazine-methylene': 'ONCNNC', 'piperidine-methylenepiperidine-4,2-diylcyclopentane-ethylenecyclopentane-1,2-diylmethylene': 'CC(C1)CCC1CC(C2)CCC2C(C3)NCCC3CC4NCCCC4', '1,3-dioxa-8-thia-5,10-diazadodecane': 'OCOCNCCSCNCC', 'oxymethyleneoxymethyleneoxymethyleneimino-1,3-phenylenemethyleneiminomethylene': 'OCOCOCNC1=CC(CNC)=CC=C1', 'pyridine-1,4-phenylenemethyleneoxymethyleneiminomethyleneoxy-1,4-phenylenemethylene': 'CC(C=C1)=CC=C1OCNCOCC(C=C2)=CC=C2C3=CC=CN=C3', 'sulfinylmethylenesulfanediylpropane-1,3-diylsulfonyl-1,4-phenylene': 'SOCSCCCS(=O)(C1=CC=CC=C1)=O', 'oxyterephthaloylhydrazine-terephthaloyl': 'OC(C1=CC=C(C(NNC(C2=CC=C(C=O)C=C2)=O)=O)C=C1)=O', 'nitrilo-1,4-phenylenenitriloprop-2-en-3-yl-1-ylidene-1,4-phenyleneprop-1-en-1-yl-3-ylidene': 'NC1=CC=C(N=CC=CC2=CC=C(C=CCC)C=C2)C=C1', 'oxycarbonylnitrilopropane-idenenitrilocarbonyl': 'OC(N=CCC=NC=O)=O', 'oxyethyleneiminomethylenesulfanediylethyleneiminocyclohexane': 'OCCCNCSCCNC1CCCCC1', 'iminomethyleneiminocarbonyl{2-[(2,4-dinitrophenyl)hydrazono]cyclopentane}carbonyl': 'OC(C1=CC=C(C(OCCCCCC)=O)C=C1)=O', 'oxyterephthaloyloxyhexane': 'NCCNC(C1/C(C(C=O)CC1)=N/NC2=C([N+]([O-])=O)C=C([N+]([O-])=O)C=C2)=O', 'nitrilocyclohexa-2,5-diene-idenenitrilo-1,4-phenyleneimino-1,4-phenyleneimino1,4-phenylene': 'N=C1C=CC(C=C1)=NC2=CC=C(NC3=CC=C(NC4=CC=CC=C4)C=C3)C=C2', 'cyclohexane-methanylylidenecyclohexane-idenemethanylylidenecyclohexane-methylene': 'CC(CC1)CCC1C=C(CC2)CCC2=CC3CCCCC3'}\n"
     ]
    }
   ],
   "source": [
    "# Create your own Chemical Graph Network\n",
    "\n",
    "from global_chem import GlobalChem\n",
    "\n",
    "gc = GlobalChem(verbose=False)\n",
    "gc.initiate_network()\n",
    "gc.add_node('global_chem', 'common_monomer_repeating_units')\n",
    "gc.add_node('common_monomer_repeating_units','electrophilic_warheads_for_kinases')\n",
    "values = gc.get_node_smiles('common_monomer_repeating_units')\n",
    "\n",
    "print (values)"
   ]
  },
  {
   "cell_type": "code",
   "execution_count": 14,
   "metadata": {
    "colab": {
     "base_uri": "https://localhost:8080/"
    },
    "id": "BY0XdCJvLh3O",
    "outputId": "96af1c4d-6707-4d77-a4c3-a546f9e21188"
   },
   "outputs": [
    {
     "name": "stdout",
     "output_type": "stream",
     "text": [
      "                                      ┌common_warheads_covalent_inhibitors\n",
      "            ┌emerging_perfluoroalkyls─├privileged_scaffolds\n",
      "            │                         └iupac_blue_book\n",
      "            │                           ┌common_warheads_covalent_inhibitors\n",
      "global_chem─├montmorillonite_adsorption─├privileged_scaffolds\n",
      "            │                           └iupac_blue_book\n",
      "            │                               ┌common_warheads_covalent_inhibitors\n",
      "            └common_monomer_repeating_units─├privileged_scaffolds\n",
      "                                            └iupac_blue_book\n",
      "None\n"
     ]
    }
   ],
   "source": [
    "# Create a Deep Layer Network\n",
    "\n",
    "gc = GlobalChem()\n",
    "gc.initiate_deep_layer_network()\n",
    "gc.add_deep_layer(\n",
    "    [\n",
    "        'emerging_perfluoroalkyls',\n",
    "        'montmorillonite_adsorption',\n",
    "        'common_monomer_repeating_units'\n",
    "    ]\n",
    ")\n",
    "gc.add_deep_layer(\n",
    "    [\n",
    "        'common_warheads_covalent_inhibitors',\n",
    "        'privileged_scaffolds',\n",
    "        'iupac_blue_book'\n",
    "    ]\n",
    ")\n",
    "\n",
    "gc.print_deep_network()"
   ]
  },
  {
   "cell_type": "code",
   "execution_count": 15,
   "metadata": {
    "colab": {
     "base_uri": "https://localhost:8080/"
    },
    "id": "noebaMUkLmB6",
    "outputId": "04216eb3-c134-48a0-8bce-63d01edeb752"
   },
   "outputs": [
    {
     "name": "stdout",
     "output_type": "stream",
     "text": [
      "GlobalChem Common Score: 7.046669495120916\n"
     ]
    },
    {
     "data": {
      "text/plain": [
       "7.046669495120916"
      ]
     },
     "execution_count": 15,
     "metadata": {},
     "output_type": "execute_result"
    }
   ],
   "source": [
    "# Compute Common Score\n",
    "\n",
    "gc = GlobalChem()\n",
    "gc.build_global_chem_network(print_output=False, debugger=False)\n",
    "gc.compute_common_score('benzene', verbose=True)"
   ]
  },
  {
   "cell_type": "code",
   "execution_count": 16,
   "metadata": {
    "id": "WYITULGSMBLV"
   },
   "outputs": [],
   "source": [
    "# To TSV\n",
    "\n",
    "gc = GlobalChem()\n",
    "gc.to_tsv('global_chem.tsv')"
   ]
  },
  {
   "cell_type": "code",
   "execution_count": null,
   "metadata": {
    "id": "9Kxe0Y1hMEAH"
   },
   "outputs": [],
   "source": [
    ""
   ]
  }
 ],
 "metadata": {
  "colab": {
   "name": "GlobalChem_demo.ipynb",
   "provenance": []
  },
  "kernelspec": {
   "name": "python3",
   "display_name": "Python 3"
  },
  "language_info": {
   "name": "python"
  }
 },
 "nbformat": 4,
 "nbformat_minor": 0
}

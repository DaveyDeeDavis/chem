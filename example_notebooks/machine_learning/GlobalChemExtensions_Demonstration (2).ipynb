{
 "cells": [
  {
   "cell_type": "code",
   "execution_count": 1,
   "metadata": {
    "id": "PY-f8bB8jpqi"
   },
   "outputs": [],
   "source": [
    "# Environment Setup\n",
    "\n",
    "!rm -rf global-chem\n",
    "!git clone -q https://github.com/Sulstice/global-chem\n",
    "\n",
    "!pip install -q global-chem-extensions --upgrade"
   ]
  },
  {
   "cell_type": "code",
   "execution_count": 2,
   "metadata": {
    "id": "NoYEtzDf1jYF"
   },
   "outputs": [],
   "source": [
    "# Header\n",
    "\n",
    "from global_chem import GlobalChem\n",
    "from global_chem_extensions import GlobalChemExtensions\n",
    "\n",
    "gc = GlobalChem()\n",
    "gce = GlobalChemExtensions()"
   ]
  },
  {
   "cell_type": "code",
   "execution_count": null,
   "metadata": {
    "colab": {
     "base_uri": "https://localhost:8080/"
    },
    "id": "XoFHQLdov7r7",
    "outputId": "13832bd5-d24c-4260-9ed1-0663c8227f38"
   },
   "outputs": [
    {
     "name": "stdout",
     "output_type": "stream",
     "text": [
      "Encoded SMILES: [[0. 0. 0. ... 0. 0. 0.]\n",
      " [0. 0. 0. ... 0. 0. 0.]\n",
      " [0. 0. 0. ... 0. 0. 0.]\n",
      " ...\n",
      " [0. 0. 0. ... 0. 0. 0.]\n",
      " [0. 0. 0. ... 0. 0. 0.]\n",
      " [0. 0. 0. ... 0. 0. 0.]]\n",
      "Decoded SMILES: CCC(N)CC1=CC(=C(OC)C(=C1)OC)OC                                                                                                                                                                          \n"
     ]
    }
   ],
   "source": [
    "# One Hot Encoding your SMILES\n",
    "\n",
    "gc.build_global_chem_network(print_output=False, debugger=False)\n",
    "smiles_list = list(gc.get_node_smiles('pihkal').values())\n",
    "\n",
    "encoded_smiles = gce.encode_smiles(smiles_list, max_length=200)\n",
    "\n",
    "print ('Encoded SMILES: %s' % encoded_smiles[0])\n",
    "\n",
    "decoded_smiles = gce.decode_smiles(encoded_smiles)\n",
    "\n",
    "print ('Decoded SMILES: %s' % decoded_smiles[0])\n"
   ]
  }
 ],
 "metadata": {
  "colab": {
   "name": "GlobalChemExtensions_Demonstration.ipynb",
   "provenance": []
  },
  "kernelspec": {
   "name": "python3",
   "display_name": "Python 3"
  },
  "language_info": {
   "name": "python"
  }
 },
 "nbformat": 4,
 "nbformat_minor": 0
}

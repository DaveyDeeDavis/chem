{
 "cells": [
  {
   "cell_type": "code",
   "execution_count": 1,
   "metadata": {
    "id": "PY-f8bB8jpqi"
   },
   "outputs": [],
   "source": [
    "# Environment Setup\n",
    "\n",
    "!rm -rf global-chem\n",
    "!git clone -q https://github.com/Sulstice/global-chem\n",
    "\n",
    "!pip install -q global-chem[plotting] --upgrade"
   ]
  },
  {
   "cell_type": "code",
   "execution_count": 2,
   "metadata": {
    "id": "NoYEtzDf1jYF"
   },
   "outputs": [],
   "source": [
    "# Header\n",
    "\n",
    "from global_chem import GlobalChem\n",
    "from global_chem_extensions import GlobalChemExtensions\n",
    "\n",
    "gc = GlobalChem()\n",
    "gce = GlobalChemExtensions()"
   ]
  },
  {
   "cell_type": "code",
   "execution_count": null,
   "metadata": {
    "id": "vr8iNR3-NZuh",
    "colab": {
     "base_uri": "https://localhost:8080/"
    },
    "outputId": "9241212e-d196-4da6-8e5d-f6a2b21b889d"
   },
   "outputs": [
    {
     "name": "stdout",
     "output_type": "stream",
     "text": [
      "                                      ┌common_warheads_covalent_inhibitors\n",
      "                                      ├privileged_scaffolds\n",
      "            ┌emerging_perfluoroalkyls─├iupac_blue_book\n",
      "            │                         ├schedule_four\n",
      "            │                         └schedule_one\n",
      "            │                           ┌common_warheads_covalent_inhibitors\n",
      "            │                           ├privileged_scaffolds\n",
      "            ├montmorillonite_adsorption─├iupac_blue_book\n",
      "            │                           ├schedule_four\n",
      "            │                           └schedule_one\n",
      "            │                               ┌common_warheads_covalent_inhibitors\n",
      "            │                               ├privileged_scaffolds\n",
      "global_chem─├common_monomer_repeating_units─├iupac_blue_book\n",
      "            │                               ├schedule_four\n",
      "            │                               └schedule_one\n",
      "            │         ┌common_warheads_covalent_inhibitors\n",
      "            │         ├privileged_scaffolds\n",
      "            ├vitamins─├iupac_blue_book\n",
      "            │         ├schedule_four\n",
      "            │         └schedule_one\n",
      "            │             ┌common_warheads_covalent_inhibitors\n",
      "            │             ├privileged_scaffolds\n",
      "            └schedule_two─├iupac_blue_book\n",
      "                          ├schedule_four\n",
      "                          └schedule_one\n",
      "None\n",
      "{'global_chem': {'node_value': <global_chem.global_chem.Node object at 0x7fe911337750>, 'children': ['emerging_perfluoroalkyls', 'montmorillonite_adsorption', 'common_monomer_repeating_units', 'vitamins', 'schedule_two'], 'parents': [], 'name': 'global_chem', 'layer': '1'}, 'emerging_perfluoroalkyls': {'node_value': <global_chem.global_chem.Node object at 0x7fe911337850>, 'children': ['common_warheads_covalent_inhibitors', 'privileged_scaffolds', 'iupac_blue_book', 'schedule_four', 'schedule_one'], 'parents': ['global_chem'], 'name': 'emerging_perfluoroalkyls', 'layer': 2}, 'montmorillonite_adsorption': {'node_value': <global_chem.global_chem.Node object at 0x7fe9113378d0>, 'children': ['common_warheads_covalent_inhibitors', 'privileged_scaffolds', 'iupac_blue_book', 'schedule_four', 'schedule_one'], 'parents': ['global_chem'], 'name': 'montmorillonite_adsorption', 'layer': 2}, 'common_monomer_repeating_units': {'node_value': <global_chem.global_chem.Node object at 0x7fe911337910>, 'children': ['common_warheads_covalent_inhibitors', 'privileged_scaffolds', 'iupac_blue_book', 'schedule_four', 'schedule_one'], 'parents': ['global_chem'], 'name': 'common_monomer_repeating_units', 'layer': 2}, 'vitamins': {'node_value': <global_chem.global_chem.Node object at 0x7fe911337950>, 'children': ['common_warheads_covalent_inhibitors', 'privileged_scaffolds', 'iupac_blue_book', 'schedule_four', 'schedule_one'], 'parents': ['global_chem'], 'name': 'vitamins', 'layer': 2}, 'schedule_two': {'node_value': <global_chem.global_chem.Node object at 0x7fe911337990>, 'children': ['common_warheads_covalent_inhibitors', 'privileged_scaffolds', 'iupac_blue_book', 'schedule_four', 'schedule_one'], 'parents': ['global_chem'], 'name': 'schedule_two', 'layer': 2}, 'common_warheads_covalent_inhibitors': {'node_value': <global_chem.global_chem.Node object at 0x7fe9421c8a50>, 'children': [], 'parents': ['emerging_perfluoroalkyls', 'montmorillonite_adsorption', 'common_monomer_repeating_units', 'vitamins', 'schedule_two'], 'name': 'common_warheads_covalent_inhibitors', 'layer': 3}, 'privileged_scaffolds': {'node_value': <global_chem.global_chem.Node object at 0x7fe917ed5f90>, 'children': [], 'parents': ['emerging_perfluoroalkyls', 'montmorillonite_adsorption', 'common_monomer_repeating_units', 'vitamins', 'schedule_two'], 'name': 'privileged_scaffolds', 'layer': 3}, 'iupac_blue_book': {'node_value': <global_chem.global_chem.Node object at 0x7fe941d44a50>, 'children': [], 'parents': ['emerging_perfluoroalkyls', 'montmorillonite_adsorption', 'common_monomer_repeating_units', 'vitamins', 'schedule_two'], 'name': 'iupac_blue_book', 'layer': 3}, 'schedule_four': {'node_value': <global_chem.global_chem.Node object at 0x7fe911327790>, 'children': [], 'parents': ['emerging_perfluoroalkyls', 'montmorillonite_adsorption', 'common_monomer_repeating_units', 'vitamins', 'schedule_two'], 'name': 'schedule_four', 'layer': 3}, 'schedule_one': {'node_value': <global_chem.global_chem.Node object at 0x7fe9113271d0>, 'children': [], 'parents': ['emerging_perfluoroalkyls', 'montmorillonite_adsorption', 'common_monomer_repeating_units', 'vitamins', 'schedule_two'], 'name': 'schedule_one', 'layer': 3}}\n"
     ]
    }
   ],
   "source": [
    "# Deep Layering\n",
    "\n",
    "gc.initiate_deep_layer_network()\n",
    "gc.add_deep_layer(\n",
    "    [\n",
    "        'emerging_perfluoroalkyls',\n",
    "        'montmorillonite_adsorption',\n",
    "        'common_monomer_repeating_units',\n",
    "        'vitamins',\n",
    "        'schedule_two',\n",
    "    ]\n",
    ")\n",
    "gc.add_deep_layer(\n",
    "    [\n",
    "        'common_warheads_covalent_inhibitors',\n",
    "        'privileged_scaffolds',\n",
    "        'iupac_blue_book',\n",
    "        'schedule_four',\n",
    "        'schedule_one',\n",
    "    ]\n",
    ")\n",
    "\n",
    "gc.print_deep_network()\n",
    "deep_layer_network = gc.deep_layer_network\n",
    "print (deep_layer_network)"
   ]
  }
 ],
 "metadata": {
  "colab": {
   "name": "GlobalChemExtensions_Demonstration.ipynb",
   "provenance": []
  },
  "kernelspec": {
   "name": "python3",
   "display_name": "Python 3"
  },
  "language_info": {
   "name": "python"
  }
 },
 "nbformat": 4,
 "nbformat_minor": 0
}
